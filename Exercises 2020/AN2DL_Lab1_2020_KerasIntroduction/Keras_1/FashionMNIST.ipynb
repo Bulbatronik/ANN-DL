{
 "cells": [
  {
   "cell_type": "code",
   "execution_count": null,
   "metadata": {},
   "outputs": [],
   "source": [
    "from IPython.core.interactiveshell import InteractiveShell\n",
    "InteractiveShell.ast_node_interactivity = \"all\""
   ]
  },
  {
   "cell_type": "code",
   "execution_count": null,
   "metadata": {},
   "outputs": [],
   "source": [
    "import tensorflow as tf\n",
    "import numpy as np\n",
    "\n",
    "# Set the seed for random operations. \n",
    "# This let our experiments to be reproducible. \n",
    "tf.random.set_seed(1234)  "
   ]
  },
  {
   "cell_type": "markdown",
   "metadata": {},
   "source": [
    "## Dataset"
   ]
  },
  {
   "cell_type": "markdown",
   "metadata": {},
   "source": [
    "### tf.data.Dataset.range"
   ]
  },
  {
   "cell_type": "code",
   "execution_count": null,
   "metadata": {},
   "outputs": [],
   "source": [
    "# Create a Dataset of sequential numbers\n",
    "# --------------------------------------\n",
    "print(\"Dataset.range examples:\")\n",
    "print(\"-----------------------\")\n",
    "\n",
    "range_dataset = tf.data.Dataset.range(0, 20, 1)\n",
    "\n",
    "print(\"\\n1. Dataset\")\n",
    "for el in range_dataset:\n",
    "    print(el)\n",
    "\n",
    "# Divide in batches\n",
    "bs = 3\n",
    "range_dataset = tf.data.Dataset.range(0, 20, 1).batch(bs, drop_remainder=False)\n",
    "\n",
    "print(\"\\n2. Dataset + batch\")\n",
    "for el in range_dataset:\n",
    "    print(el)\n",
    "\n",
    "# Apply a transformation to each element\n",
    "def map_fn(x):\n",
    "    return x**2\n",
    "\n",
    "range_dataset = tf.data.Dataset.range(0, 20, 1).batch(bs, drop_remainder=False).map(map_fn)\n",
    "\n",
    "print(\"\\n3. Dataset + batch + map\")\n",
    "for el in range_dataset:\n",
    "    print(el)\n",
    "\n",
    "# Filter dataset based on a condition\n",
    "def filter_fn(x):\n",
    "    return tf.equal(tf.math.mod(x, 2), 0)\n",
    "\n",
    "range_dataset = tf.data.Dataset.range(0, 20, 1).filter(filter_fn)\n",
    "\n",
    "print(\"\\n4. Dataset + filter\")\n",
    "for el in range_dataset:\n",
    "    print(el)\n",
    "\n",
    "# Random shuffling\n",
    "range_dataset = tf.data.Dataset.range(0, 20, 1).shuffle(\n",
    "    buffer_size=20, reshuffle_each_iteration=False, seed=1234).batch(bs)\n",
    "\n",
    "print(\"\\n5. Dataset + shuffle + batch\")\n",
    "for el in range_dataset:\n",
    "    print(el)\n",
    "\n"
   ]
  },
  {
   "cell_type": "markdown",
   "metadata": {},
   "source": [
    "### tf.data.Dataset.from_tensors"
   ]
  },
  {
   "cell_type": "code",
   "execution_count": null,
   "metadata": {
    "scrolled": true
   },
   "outputs": [],
   "source": [
    "# Create Dataset as unique element\n",
    "# --------------------------------\n",
    "from_tensors_dataset = tf.data.Dataset.from_tensors([1, 2, 3, 4, 5, 6, 7, 8, 9])\n",
    "\n",
    "print(\"Dataset.from_tensors example:\")\n",
    "print(\"-----------------------------\")\n",
    "for el in from_tensors_dataset:\n",
    "    print(el)"
   ]
  },
  {
   "cell_type": "markdown",
   "metadata": {},
   "source": [
    "### tf.data.Dataset.from_tensor_slices"
   ]
  },
  {
   "cell_type": "code",
   "execution_count": null,
   "metadata": {
    "scrolled": true
   },
   "outputs": [],
   "source": [
    "# Create a Dataset of slices\n",
    "# --------------------------\n",
    "\n",
    "# All the elements must have the same size in first dimension (axis 0)\n",
    "from_tensor_slices_dataset = tf.data.Dataset.from_tensor_slices(\n",
    "    (np.random.uniform(size=[10, 2, 2]), np.random.randint(10, size=[10])))\n",
    "\n",
    "print(\"Dataset.from_tensor_slices example:\")\n",
    "print(\"-----------------------------\")\n",
    "for el in from_tensor_slices_dataset:\n",
    "    print(el)"
   ]
  },
  {
   "cell_type": "markdown",
   "metadata": {},
   "source": [
    "### tf.data.Dataset.zip"
   ]
  },
  {
   "cell_type": "code",
   "execution_count": null,
   "metadata": {},
   "outputs": [],
   "source": [
    "# Combine multiple datasets\n",
    "# -------------------------\n",
    "x = tf.data.Dataset.from_tensor_slices(np.random.uniform(size=10))\n",
    "y = tf.data.Dataset.from_tensor_slices([1, 2, 3, 4, 5, 6, 7, 8, 9])\n",
    "\n",
    "zipped = tf.data.Dataset.zip((x, y))\n",
    "\n",
    "print(\"Dataset.from_tensors example:\")\n",
    "print(\"-----------------------------\")\n",
    "for el in zipped:\n",
    "    print(el)"
   ]
  },
  {
   "cell_type": "code",
   "execution_count": null,
   "metadata": {},
   "outputs": [],
   "source": [
    "# Iterate over range dataset\n",
    "# --------------------------\n",
    "\n",
    "# for a in b\n",
    "for el in zipped:\n",
    "    print(el)\n",
    "    \n",
    "print('\\n')\n",
    "    \n",
    "# for a in enumerate(b)\n",
    "for el_idx, el in enumerate(zipped):\n",
    "    print(el)\n",
    "    \n",
    "print('\\n')\n",
    "    \n",
    "# get iterator\n",
    "iterator = iter(zipped)\n",
    "print(next(iterator))"
   ]
  },
  {
   "cell_type": "markdown",
   "metadata": {},
   "source": [
    "# Example: Fashion MNIST - Multi-class classification\n",
    "## Dataset"
   ]
  },
  {
   "cell_type": "code",
   "execution_count": null,
   "metadata": {},
   "outputs": [],
   "source": [
    "# Load built-in dataset\n",
    "# ---------------------\n",
    "(x_train, y_train), (x_test, y_test) = tf.keras.datasets.fashion_mnist.load_data()"
   ]
  },
  {
   "cell_type": "code",
   "execution_count": null,
   "metadata": {},
   "outputs": [],
   "source": [
    "x_train.shape\n",
    "y_train.shape"
   ]
  },
  {
   "cell_type": "code",
   "execution_count": null,
   "metadata": {},
   "outputs": [],
   "source": [
    "# Split in training and validation sets\n",
    "# e.g., 50000 samples for training and 10000 samples for validation\n",
    "\n",
    "x_valid = x_train[50000:, ...] \n",
    "y_valid = y_train[50000:, ...] \n",
    "\n",
    "x_train = x_train[:50000, ...]\n",
    "y_train = y_train[:50000, ...]"
   ]
  },
  {
   "cell_type": "code",
   "execution_count": null,
   "metadata": {
    "scrolled": false
   },
   "outputs": [],
   "source": [
    "# Create Training Dataset object\n",
    "# ------------------------------\n",
    "train_dataset = tf.data.Dataset.from_tensor_slices((x_train, y_train))\n",
    "\n",
    "# Shuffle\n",
    "train_dataset = train_dataset.shuffle(buffer_size=x_train.shape[0])\n",
    "\n",
    "# Normalize images\n",
    "def normalize_img(x_, y_):\n",
    "    return tf.cast(x_, tf.float32) / 255., y_\n",
    "\n",
    "train_dataset = train_dataset.map(normalize_img)\n",
    "\n",
    "# 1-hot encoding <- for categorical cross entropy\n",
    "def to_categorical(x_, y_):\n",
    "    return x_, tf.one_hot(y_, depth=10)\n",
    "\n",
    "train_dataset = train_dataset.map(to_categorical)\n",
    "\n",
    "# Divide in batches\n",
    "bs = 32\n",
    "train_dataset = train_dataset.batch(bs)\n",
    "\n",
    "# Repeat\n",
    "# Without calling the repeat function the dataset \n",
    "# will be empty after consuming all the images\n",
    "train_dataset = train_dataset.repeat()"
   ]
  },
  {
   "cell_type": "code",
   "execution_count": null,
   "metadata": {},
   "outputs": [],
   "source": [
    "# Create Validation Dataset  \n",
    "# -----------------------\n",
    "valid_dataset = tf.data.Dataset.from_tensor_slices((x_valid, y_valid))\n",
    "\n",
    "# Normalize images\n",
    "valid_dataset = valid_dataset.map(normalize_img)\n",
    "\n",
    "# 1-hot encoding\n",
    "valid_dataset = valid_dataset.map(to_categorical)\n",
    "\n",
    "# Divide in batches\n",
    "valid_dataset = valid_dataset.batch(1)\n",
    "\n",
    "# Repeat\n",
    "valid_dataset = valid_dataset.repeat()"
   ]
  },
  {
   "cell_type": "code",
   "execution_count": null,
   "metadata": {},
   "outputs": [],
   "source": [
    "# Create Test Dataset\n",
    "# -------------------\n",
    "test_dataset = tf.data.Dataset.from_tensor_slices((x_test, y_test))\n",
    "\n",
    "test_dataset = test_dataset.map(normalize_img)\n",
    "\n",
    "test_dataset = test_dataset.map(to_categorical)\n",
    "\n",
    "test_dataset = test_dataset.batch(1)"
   ]
  },
  {
   "cell_type": "code",
   "execution_count": null,
   "metadata": {
    "scrolled": false
   },
   "outputs": [],
   "source": [
    "# Check that is everything is ok with the dataloader\n",
    "\n",
    "iterator = iter(train_dataset)\n",
    "sample, target = next(iterator)\n",
    "\n",
    "# Just for visualization purpouses\n",
    "sample_ = sample[0, ...]  # select first image in the batch\n",
    "\n",
    "from PIL import Image\n",
    "img = Image.fromarray(np.uint8(np.array(sample_)*255.))\n",
    "img = img.resize([128, 128])\n",
    "img\n",
    "\n",
    "sample_\n",
    "target[0]  # select corresponding target"
   ]
  },
  {
   "cell_type": "markdown",
   "metadata": {},
   "source": [
    "## Model"
   ]
  },
  {
   "cell_type": "code",
   "execution_count": null,
   "metadata": {},
   "outputs": [],
   "source": [
    "# Fashion MNIST classification\n",
    "# ----------------------------\n",
    "\n",
    "# x: 28x28\n",
    "# y: 10 classes\n",
    "\n",
    "# Create Model\n",
    "# ------------\n",
    "# e.g. in: 28x28 -> h: 10 units -> out: 10 units (number of classes) \n",
    "\n",
    "# Define Input keras tensor\n",
    "x = tf.keras.Input(shape=[28, 28])\n",
    "\n",
    "# Define intermediate hidden layers and chain\n",
    "flatten = tf.keras.layers.Flatten()(x)  \n",
    "h = tf.keras.layers.Dense(units=10, activation=tf.keras.activations.sigmoid)(flatten)\n",
    "\n",
    "# Define output layer and chain\n",
    "\n",
    "# Define the last fully-connected layer, which is composed by 10 neurons (the number of classes). \n",
    "# Finally, the softmax activation function is applied for multiclass classification\n",
    "out = tf.keras.layers.Dense(units=10, activation=tf.keras.activations.softmax)(h) \n",
    "\n",
    "# Create Model instance defining inputs and outputs\n",
    "model = tf.keras.Model(inputs=x, outputs=out) # Note: you can have a model with multiple inputs and multiple outputs"
   ]
  },
  {
   "cell_type": "code",
   "execution_count": null,
   "metadata": {
    "scrolled": true
   },
   "outputs": [],
   "source": [
    "# Visualize created model as a table\n",
    "\n",
    "# I can visualise the model I create and the weights initialisation\n",
    "model.summary()\n",
    "\n",
    "# Visualize initialized weights\n",
    "model.weights\n",
    "# As you can see it will show you the size of the output of your layers and the number of parameters (weights + biases)"
   ]
  },
  {
   "cell_type": "code",
   "execution_count": null,
   "metadata": {},
   "outputs": [],
   "source": [
    "# Equivalent formulation\n",
    "# ----------------------\n",
    "\n",
    "# Create model with sequential \n",
    "# (uncomment to run)\n",
    "# seq_model = tf.keras.Sequential()\n",
    "# seq_model.add(tf.keras.layers.Flatten(input_shape=(28, 28))) # or as a list\n",
    "# seq_model.add(tf.keras.layers.Dense(units=10, activation=tf.keras.activations.sigmoid))\n",
    "# seq_model.add(tf.keras.layers.Dense(units=10, activation=tf.keras.activations.softmax))"
   ]
  },
  {
   "cell_type": "code",
   "execution_count": null,
   "metadata": {},
   "outputs": [],
   "source": [
    "# seq_model.summary()\n",
    "# seq_model.weights"
   ]
  },
  {
   "cell_type": "markdown",
   "metadata": {},
   "source": [
    "## Prepare the model for training"
   ]
  },
  {
   "cell_type": "code",
   "execution_count": null,
   "metadata": {},
   "outputs": [],
   "source": [
    "# Optimization params\n",
    "# -------------------\n",
    "\n",
    "# Before training the network we have to 'compile' the model by defining the following hyperparameters\n",
    "\n",
    "# Loss\n",
    "loss = tf.keras.losses.CategoricalCrossentropy()\n",
    "\n",
    "# Learning rate\n",
    "lr = 1e-3\n",
    "optimizer = tf.keras.optimizers.Adam(learning_rate=lr)\n",
    "# -------------------\n",
    "\n",
    "# Validation metrics\n",
    "# ------------------\n",
    "\n",
    "# Define the metrics we want to compute during validation \n",
    "# (keras will automatically evaluate them also on the training set). \n",
    "# In this example we compute the accuracy, i.e., the frequency of correctly predicted classes\n",
    "\n",
    "metrics = ['accuracy']\n",
    "# ------------------\n",
    "\n",
    "# Finally, we call model.compile\n",
    "\n",
    "# Compile Model\n",
    "model.compile(optimizer=optimizer, loss=loss, metrics=metrics)"
   ]
  },
  {
   "cell_type": "markdown",
   "metadata": {},
   "source": [
    "## Training"
   ]
  },
  {
   "cell_type": "code",
   "execution_count": null,
   "metadata": {},
   "outputs": [],
   "source": [
    "# Now we are ready to start training our network. \n",
    "# This is done by calling the 'fit' function. We need to set some parameters. The main ones are:\n",
    "\n",
    "# 1) Training set. \n",
    "# 'x' and 'y' params represent the input and targets for training, respectively. \n",
    "# If we have a dataloader which already provides <input, target> pairs, we have to set only the 'x' param.\n",
    "# If you have a very small dataset, it could be convenient instead to set 'x' and 'y' directly with your\n",
    "# numpy arrays containing all your training set (e.g., x = x_train, y = y_train in the example).\n",
    "\n",
    "# 2) Number of epochs (how many times we want to process all the dataset).\n",
    "\n",
    "# 3) Steps per epoch, i.e., (# training images) / (batch size)\n",
    "\n",
    "# 4) Validation set\n",
    "# 'validation_data' will be our dataloader for the validation set (also in this case we can give the numpy array directly).\n",
    "# 'validation_steps' is similar to the 'steps_per_epoch'. In the example it is 10000, since we have \n",
    "# chosen arbitrarily a batch size of 1 sample for the validation dataset. \n",
    "\n",
    "model.fit(x=train_dataset,  # you can give directly numpy arrays x_train\n",
    "          y=None,   \n",
    "          epochs=10, \n",
    "          steps_per_epoch=int(np.ceil(x_train.shape[0] / bs)),  # how many batches per epoch\n",
    "          validation_data=valid_dataset,  \n",
    "          validation_steps=10000)  # number of batches in validation set\n",
    "\n",
    "# Here we are! While the network is training keras provides useful information. \n",
    "# In particular, we can see the loss and the metrics computed on training batches, and, at the end of each epoch,\n",
    "# the same quantities are computed on the validation set (very useful to understand if we are overfitting..).\n",
    "# But we can also inspect these and other details in a smarter way..see you next lesson!:) "
   ]
  },
  {
   "cell_type": "code",
   "execution_count": null,
   "metadata": {},
   "outputs": [],
   "source": []
  }
 ],
 "metadata": {
  "kernelspec": {
   "display_name": "Python 3",
   "language": "python",
   "name": "python3"
  },
  "language_info": {
   "codemirror_mode": {
    "name": "ipython",
    "version": 3
   },
   "file_extension": ".py",
   "mimetype": "text/x-python",
   "name": "python",
   "nbconvert_exporter": "python",
   "pygments_lexer": "ipython3",
   "version": "3.7.7"
  }
 },
 "nbformat": 4,
 "nbformat_minor": 2
}
