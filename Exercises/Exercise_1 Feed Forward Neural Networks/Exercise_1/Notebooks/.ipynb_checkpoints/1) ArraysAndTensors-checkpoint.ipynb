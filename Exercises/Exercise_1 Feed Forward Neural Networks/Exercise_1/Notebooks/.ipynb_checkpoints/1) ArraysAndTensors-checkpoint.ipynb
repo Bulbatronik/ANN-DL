{
 "cells": [
  {
   "cell_type": "markdown",
   "metadata": {
    "id": "wmbF_O8X88gl"
   },
   "source": [
    "# Exercise Session 1\n",
    "## NumPy Arrays vs TensorFlow2 Tensors"
   ]
  },
  {
   "cell_type": "markdown",
   "metadata": {
    "id": "l3FoTyRa9pLu"
   },
   "source": [
    "### Import Libraries"
   ]
  },
  {
   "cell_type": "code",
   "execution_count": 3,
   "metadata": {
    "colab": {
     "base_uri": "https://localhost:8080/"
    },
    "executionInfo": {
     "elapsed": 1953,
     "status": "ok",
     "timestamp": 1632815364311,
     "user": {
      "displayName": "Eugenio Lomurno",
      "photoUrl": "https://lh3.googleusercontent.com/a/default-user=s64",
      "userId": "00192456819128711881"
     },
     "user_tz": -120
    },
    "id": "f_sOaV1Y8NsL",
    "outputId": "2b28aed4-e702-4bac-df63-6b4141f20084"
   },
   "outputs": [
    {
     "name": "stdout",
     "output_type": "stream",
     "text": [
      "TensorFlow2 vesion: 2.6.0\n"
     ]
    }
   ],
   "source": [
    "import tensorflow as tf\n",
    "import numpy as np\n",
    "import os\n",
    "import random\n",
    "print('TensorFlow2 vesion:',tf.__version__)"
   ]
  },
  {
   "cell_type": "markdown",
   "metadata": {
    "id": "pLb-N5JzUUQS"
   },
   "source": [
    "### Set seed for reproducibility"
   ]
  },
  {
   "cell_type": "code",
   "execution_count": 4,
   "metadata": {
    "executionInfo": {
     "elapsed": 11,
     "status": "ok",
     "timestamp": 1632815365899,
     "user": {
      "displayName": "Eugenio Lomurno",
      "photoUrl": "https://lh3.googleusercontent.com/a/default-user=s64",
      "userId": "00192456819128711881"
     },
     "user_tz": -120
    },
    "id": "C7HYua8HUHIj"
   },
   "outputs": [],
   "source": [
    "# Random seed for reproducibility\n",
    "seed = 420\n",
    "\n",
    "random.seed(seed)\n",
    "os.environ['PYTHONHASHSEED'] = str(seed)\n",
    "np.random.seed(seed)\n",
    "tf.random.set_seed(seed)\n",
    "tf.compat.v1.set_random_seed(seed)"
   ]
  },
  {
   "cell_type": "markdown",
   "metadata": {
    "id": "xqL_JHxC9vrD"
   },
   "source": [
    "### NumPy "
   ]
  },
  {
   "cell_type": "markdown",
   "metadata": {
    "id": "bDaf8QG2VX3o"
   },
   "source": [
    "1-dimentional NumPy array"
   ]
  },
  {
   "cell_type": "code",
   "execution_count": 15,
   "metadata": {
    "colab": {
     "base_uri": "https://localhost:8080/"
    },
    "executionInfo": {
     "elapsed": 410,
     "status": "ok",
     "timestamp": 1632815473960,
     "user": {
      "displayName": "Eugenio Lomurno",
      "photoUrl": "https://lh3.googleusercontent.com/a/default-user=s64",
      "userId": "00192456819128711881"
     },
     "user_tz": -120
    },
    "id": "7QqT47X79zY9",
    "outputId": "bebb866a-4d14-441b-d26d-851ad247ce57"
   },
   "outputs": [
    {
     "name": "stdout",
     "output_type": "stream",
     "text": [
      "Dimensions: 1\n",
      "Type: int32\n",
      "Shape: (5,)\n",
      "[0 1 2 3 4]\n"
     ]
    }
   ],
   "source": [
    "# Define a list \n",
    "list1d = [0,1,2,3,4]\n",
    "shape1d = len(list1d)\n",
    "\n",
    "# Create a NumPy array from a list\n",
    "array1d = np.array(list1d, dtype=np.int32)\n",
    "print(\"Dimensions:\",array1d.ndim)\n",
    "print(\"Type:\",array1d.dtype)\n",
    "print(\"Shape:\", array1d.shape)\n",
    "print(array1d)"
   ]
  },
  {
   "cell_type": "code",
   "execution_count": 16,
   "metadata": {
    "executionInfo": {
     "elapsed": 14,
     "status": "ok",
     "timestamp": 1632815474448,
     "user": {
      "displayName": "Eugenio Lomurno",
      "photoUrl": "https://lh3.googleusercontent.com/a/default-user=s64",
      "userId": "00192456819128711881"
     },
     "user_tz": -120
    },
    "id": "r_vPab4RuYOh"
   },
   "outputs": [],
   "source": [
    "# Define a function to inspect NumPy arrays\n",
    "def describe_array(np_array):\n",
    "    print(\"Dimensions:\",np_array.ndim)\n",
    "    print(\"Type:\",np_array.dtype)\n",
    "    print(\"Shape:\",np_array.shape)\n",
    "    print(np_array,\"\\n\")"
   ]
  },
  {
   "cell_type": "code",
   "execution_count": 17,
   "metadata": {
    "colab": {
     "base_uri": "https://localhost:8080/"
    },
    "executionInfo": {
     "elapsed": 13,
     "status": "ok",
     "timestamp": 1632815474449,
     "user": {
      "displayName": "Eugenio Lomurno",
      "photoUrl": "https://lh3.googleusercontent.com/a/default-user=s64",
      "userId": "00192456819128711881"
     },
     "user_tz": -120
    },
    "id": "9PQwlmDRDw66",
    "outputId": "981cae44-7cd8-46cb-989d-fe14b1457f50"
   },
   "outputs": [
    {
     "name": "stdout",
     "output_type": "stream",
     "text": [
      "Dimensions: 1\n",
      "Type: int32\n",
      "Shape: (5,)\n",
      "[0 0 0 0 0] \n",
      "\n"
     ]
    }
   ],
   "source": [
    "# Create a NumPy array of zeros\n",
    "array1d = np.zeros(shape=(shape1d,), dtype=np.int32)\n",
    "describe_array(array1d)"
   ]
  },
  {
   "cell_type": "code",
   "execution_count": 18,
   "metadata": {
    "colab": {
     "base_uri": "https://localhost:8080/"
    },
    "executionInfo": {
     "elapsed": 15,
     "status": "ok",
     "timestamp": 1632815474767,
     "user": {
      "displayName": "Eugenio Lomurno",
      "photoUrl": "https://lh3.googleusercontent.com/a/default-user=s64",
      "userId": "00192456819128711881"
     },
     "user_tz": -120
    },
    "id": "3mHov5ZZDzTQ",
    "outputId": "f04b728a-c42c-432b-8809-1012dc793aa7"
   },
   "outputs": [
    {
     "name": "stdout",
     "output_type": "stream",
     "text": [
      "Dimensions: 1\n",
      "Type: float32\n",
      "Shape: (5,)\n",
      "[2. 2. 2. 2. 2.] \n",
      "\n"
     ]
    }
   ],
   "source": [
    "# Create a NumPy array of twos\n",
    "array1d = np.ones(shape=(shape1d,), dtype=np.float32) * 2\n",
    "describe_array(array1d)"
   ]
  },
  {
   "cell_type": "code",
   "execution_count": 19,
   "metadata": {
    "colab": {
     "base_uri": "https://localhost:8080/"
    },
    "executionInfo": {
     "elapsed": 11,
     "status": "ok",
     "timestamp": 1632815474768,
     "user": {
      "displayName": "Eugenio Lomurno",
      "photoUrl": "https://lh3.googleusercontent.com/a/default-user=s64",
      "userId": "00192456819128711881"
     },
     "user_tz": -120
    },
    "id": "oIgqb060D4sh",
    "outputId": "9cbeaf36-4a9a-430a-f556-2015381fa48e"
   },
   "outputs": [
    {
     "name": "stdout",
     "output_type": "stream",
     "text": [
      "Dimensions: 1\n",
      "Type: int32\n",
      "Shape: (5,)\n",
      "[0 2 4 6 8] \n",
      "\n"
     ]
    }
   ],
   "source": [
    "# Create a NumPy array of ordered integers\n",
    "array1d = np.arange(start=0, stop=10, step=2, dtype=np.int32)\n",
    "describe_array(array1d)"
   ]
  },
  {
   "cell_type": "code",
   "execution_count": 20,
   "metadata": {
    "colab": {
     "base_uri": "https://localhost:8080/"
    },
    "executionInfo": {
     "elapsed": 16,
     "status": "ok",
     "timestamp": 1632815475045,
     "user": {
      "displayName": "Eugenio Lomurno",
      "photoUrl": "https://lh3.googleusercontent.com/a/default-user=s64",
      "userId": "00192456819128711881"
     },
     "user_tz": -120
    },
    "id": "0K-lFV21D7V_",
    "outputId": "e90fef13-2420-4378-d67b-710873f8170e"
   },
   "outputs": [
    {
     "name": "stdout",
     "output_type": "stream",
     "text": [
      "Dimensions: 1\n",
      "Type: float64\n",
      "Shape: (5,)\n",
      "[0.31564591 0.45303068 0.26698226 0.10892818 0.86816648] \n",
      "\n"
     ]
    }
   ],
   "source": [
    "# Create a NumPy array from a uniform distribution\n",
    "array1d = np.random.rand(shape1d,)\n",
    "describe_array(array1d)"
   ]
  },
  {
   "cell_type": "code",
   "execution_count": 21,
   "metadata": {
    "colab": {
     "base_uri": "https://localhost:8080/"
    },
    "executionInfo": {
     "elapsed": 11,
     "status": "ok",
     "timestamp": 1632815475045,
     "user": {
      "displayName": "Eugenio Lomurno",
      "photoUrl": "https://lh3.googleusercontent.com/a/default-user=s64",
      "userId": "00192456819128711881"
     },
     "user_tz": -120
    },
    "id": "L_LWrfORDkdK",
    "outputId": "54367a79-b0f1-4215-c129-f2114f0429f3"
   },
   "outputs": [
    {
     "name": "stdout",
     "output_type": "stream",
     "text": [
      "Dimensions: 1\n",
      "Type: float64\n",
      "Shape: (5,)\n",
      "[-1.45158289  1.27685142  0.18101524 -0.61956406 -0.81419478] \n",
      "\n"
     ]
    }
   ],
   "source": [
    "# Create a NumPy array from a normal distribution\n",
    "array1d = np.random.randn(shape1d,)\n",
    "describe_array(array1d)"
   ]
  },
  {
   "cell_type": "markdown",
   "metadata": {
    "id": "nZcXxaozXubQ"
   },
   "source": [
    "2-dimentional NumPy array"
   ]
  },
  {
   "cell_type": "code",
   "execution_count": 22,
   "metadata": {
    "colab": {
     "base_uri": "https://localhost:8080/"
    },
    "executionInfo": {
     "elapsed": 10,
     "status": "ok",
     "timestamp": 1632815475661,
     "user": {
      "displayName": "Eugenio Lomurno",
      "photoUrl": "https://lh3.googleusercontent.com/a/default-user=s64",
      "userId": "00192456819128711881"
     },
     "user_tz": -120
    },
    "id": "57NytKSmDlFy",
    "outputId": "7d818ee6-2091-4cbc-a664-16eabaad727d"
   },
   "outputs": [
    {
     "name": "stdout",
     "output_type": "stream",
     "text": [
      "Dimensions: 2\n",
      "Type: int32\n",
      "Shape: (2, 5)\n",
      "[[0 1 2 3 4]\n",
      " [5 6 7 8 9]] \n",
      "\n"
     ]
    }
   ],
   "source": [
    "# Create a 2-dimentional NumPy array\n",
    "array2d = np.array([[0,1,2,3,4],[5,6,7,8,9]], dtype=np.int32)\n",
    "orininal_shape2d = array2d.shape\n",
    "describe_array(array2d)"
   ]
  },
  {
   "cell_type": "code",
   "execution_count": 23,
   "metadata": {
    "colab": {
     "base_uri": "https://localhost:8080/"
    },
    "executionInfo": {
     "elapsed": 10,
     "status": "ok",
     "timestamp": 1632815475975,
     "user": {
      "displayName": "Eugenio Lomurno",
      "photoUrl": "https://lh3.googleusercontent.com/a/default-user=s64",
      "userId": "00192456819128711881"
     },
     "user_tz": -120
    },
    "id": "CTReNroaEs0o",
    "outputId": "c667f82e-fbd1-4ba0-f377-a2a6a02b243f"
   },
   "outputs": [
    {
     "name": "stdout",
     "output_type": "stream",
     "text": [
      "Dimensions: 2\n",
      "Type: int32\n",
      "Shape: (5, 2)\n",
      "[[0 1]\n",
      " [2 3]\n",
      " [4 5]\n",
      " [6 7]\n",
      " [8 9]] \n",
      "\n"
     ]
    }
   ],
   "source": [
    "# Reshape a 2-dimentional NumPy array\n",
    "array2d = np.reshape(array2d, (orininal_shape2d[1],orininal_shape2d[0]))\n",
    "describe_array(array2d)"
   ]
  },
  {
   "cell_type": "code",
   "execution_count": 24,
   "metadata": {
    "colab": {
     "base_uri": "https://localhost:8080/"
    },
    "executionInfo": {
     "elapsed": 9,
     "status": "ok",
     "timestamp": 1632815476294,
     "user": {
      "displayName": "Eugenio Lomurno",
      "photoUrl": "https://lh3.googleusercontent.com/a/default-user=s64",
      "userId": "00192456819128711881"
     },
     "user_tz": -120
    },
    "id": "u-i-XG1kEbXL",
    "outputId": "e6cd9ec9-adbf-443a-de5d-947ff4d8d07e"
   },
   "outputs": [
    {
     "name": "stdout",
     "output_type": "stream",
     "text": [
      "Dimensions: 1\n",
      "Type: int32\n",
      "Shape: (10,)\n",
      "[0 1 2 3 4 5 6 7 8 9] \n",
      "\n"
     ]
    }
   ],
   "source": [
    "# Reshape a 2-dimentional NumPy array\n",
    "array2d = np.reshape(array2d, (orininal_shape2d[0]*orininal_shape2d[1]))\n",
    "describe_array(array2d)"
   ]
  },
  {
   "cell_type": "markdown",
   "metadata": {
    "id": "3x9Z1pOcrido"
   },
   "source": [
    "n-dimentional NumPy array"
   ]
  },
  {
   "cell_type": "code",
   "execution_count": 25,
   "metadata": {
    "colab": {
     "base_uri": "https://localhost:8080/"
    },
    "executionInfo": {
     "elapsed": 13,
     "status": "ok",
     "timestamp": 1632815477418,
     "user": {
      "displayName": "Eugenio Lomurno",
      "photoUrl": "https://lh3.googleusercontent.com/a/default-user=s64",
      "userId": "00192456819128711881"
     },
     "user_tz": -120
    },
    "id": "vwECwuPrrl11",
    "outputId": "1925f288-c960-45de-d269-03ccf1994480"
   },
   "outputs": [
    {
     "name": "stdout",
     "output_type": "stream",
     "text": [
      "Dimensions: 3\n",
      "Type: float64\n",
      "Shape: (3, 4, 5)\n",
      "[[[0.05685155 0.2371322  0.23540367 0.77437138 0.04260113]\n",
      "  [0.35469528 0.4691666  0.76757992 0.86351664 0.77762048]\n",
      "  [0.22590016 0.76038922 0.44138537 0.21743674 0.62025131]\n",
      "  [0.14122351 0.08875518 0.43756125 0.28918819 0.27306923]]\n",
      "\n",
      " [[0.54904475 0.96515865 0.69240634 0.64479175 0.72582927]\n",
      "  [0.9383001  0.04729447 0.00219055 0.34637466 0.67797387]\n",
      "  [0.3141152  0.78306657 0.60555037 0.11206089 0.88687797]\n",
      "  [0.34221127 0.55117591 0.81568475 0.85453796 0.62728843]]\n",
      "\n",
      " [[0.1494966  0.71185264 0.32072746 0.54336415 0.58971041]\n",
      "  [0.23164692 0.01132708 0.72830144 0.05114503 0.81816712]\n",
      "  [0.24574871 0.07612765 0.59574803 0.18117441 0.21668068]\n",
      "  [0.5121413  0.05042296 0.2567364  0.25445189 0.35811394]]] \n",
      "\n"
     ]
    }
   ],
   "source": [
    "# Create a n-dimentional NumPy array\n",
    "arraynd = np.random.rand(3,4,5)\n",
    "describe_array(arraynd)"
   ]
  },
  {
   "cell_type": "code",
   "execution_count": 26,
   "metadata": {
    "colab": {
     "base_uri": "https://localhost:8080/"
    },
    "executionInfo": {
     "elapsed": 13,
     "status": "ok",
     "timestamp": 1632815478087,
     "user": {
      "displayName": "Eugenio Lomurno",
      "photoUrl": "https://lh3.googleusercontent.com/a/default-user=s64",
      "userId": "00192456819128711881"
     },
     "user_tz": -120
    },
    "id": "T_GXDwTmuFIp",
    "outputId": "1d4bc52d-6b9b-43ff-a426-823f4f17f510"
   },
   "outputs": [
    {
     "data": {
      "text/plain": [
       "array([0.05685155, 0.2371322 , 0.23540367, 0.77437138, 0.04260113,\n",
       "       0.35469528, 0.4691666 , 0.76757992, 0.86351664, 0.77762048,\n",
       "       0.22590016, 0.76038922, 0.44138537, 0.21743674, 0.62025131,\n",
       "       0.14122351, 0.08875518, 0.43756125, 0.28918819, 0.27306923,\n",
       "       0.54904475, 0.96515865, 0.69240634, 0.64479175, 0.72582927,\n",
       "       0.9383001 , 0.04729447, 0.00219055, 0.34637466, 0.67797387,\n",
       "       0.3141152 , 0.78306657, 0.60555037, 0.11206089, 0.88687797,\n",
       "       0.34221127, 0.55117591, 0.81568475, 0.85453796, 0.62728843,\n",
       "       0.1494966 , 0.71185264, 0.32072746, 0.54336415, 0.58971041,\n",
       "       0.23164692, 0.01132708, 0.72830144, 0.05114503, 0.81816712,\n",
       "       0.24574871, 0.07612765, 0.59574803, 0.18117441, 0.21668068,\n",
       "       0.5121413 , 0.05042296, 0.2567364 , 0.25445189, 0.35811394])"
      ]
     },
     "execution_count": 26,
     "metadata": {},
     "output_type": "execute_result"
    }
   ],
   "source": [
    "# Flatten a n-dimentional NumPy array\n",
    "arraynd = arraynd.flatten()\n",
    "arraynd"
   ]
  },
  {
   "cell_type": "code",
   "execution_count": 27,
   "metadata": {
    "colab": {
     "base_uri": "https://localhost:8080/"
    },
    "executionInfo": {
     "elapsed": 307,
     "status": "ok",
     "timestamp": 1632815483556,
     "user": {
      "displayName": "Eugenio Lomurno",
      "photoUrl": "https://lh3.googleusercontent.com/a/default-user=s64",
      "userId": "00192456819128711881"
     },
     "user_tz": -120
    },
    "id": "9ZQr-wIzYzBM",
    "outputId": "edcca067-8b6a-44a2-e539-e6a84da0cb36"
   },
   "outputs": [
    {
     "name": "stdout",
     "output_type": "stream",
     "text": [
      "Dimensions: 3\n",
      "Type: float64\n",
      "Shape: (2, 3, 2)\n",
      "[[[1. 1.]\n",
      "  [1. 1.]\n",
      "  [1. 1.]]\n",
      "\n",
      " [[0. 0.]\n",
      "  [0. 0.]\n",
      "  [0. 0.]]] \n",
      "\n",
      "Dimensions: 3\n",
      "Type: float64\n",
      "Shape: (1, 6, 2)\n",
      "[[[1. 1.]\n",
      "  [1. 1.]\n",
      "  [1. 1.]\n",
      "  [0. 0.]\n",
      "  [0. 0.]\n",
      "  [0. 0.]]] \n",
      "\n",
      "Dimensions: 3\n",
      "Type: float64\n",
      "Shape: (1, 3, 4)\n",
      "[[[1. 1. 0. 0.]\n",
      "  [1. 1. 0. 0.]\n",
      "  [1. 1. 0. 0.]]] \n",
      "\n"
     ]
    }
   ],
   "source": [
    "# Concatenate two NumPy arrays\n",
    "array1 = np.ones((1,3,2))\n",
    "array2 = np.zeros((1,3,2))\n",
    "\n",
    "array_c1 = np.concatenate((array1,array2), axis=0)\n",
    "describe_array(array_c1)\n",
    "\n",
    "array_c2 = np.concatenate((array1,array2), axis=1)\n",
    "describe_array(array_c2)\n",
    "\n",
    "array_c3 = np.concatenate((array1,array2), axis=2)\n",
    "describe_array(array_c3)"
   ]
  },
  {
   "cell_type": "markdown",
   "metadata": {
    "id": "odByMV-N8NsO"
   },
   "source": [
    "## Tensorflow"
   ]
  },
  {
   "cell_type": "markdown",
   "metadata": {
    "id": "jXbDAIqu_A3X"
   },
   "source": [
    "TensorFlow constant"
   ]
  },
  {
   "cell_type": "code",
   "execution_count": 28,
   "metadata": {
    "colab": {
     "base_uri": "https://localhost:8080/"
    },
    "executionInfo": {
     "elapsed": 338,
     "status": "ok",
     "timestamp": 1632815485422,
     "user": {
      "displayName": "Eugenio Lomurno",
      "photoUrl": "https://lh3.googleusercontent.com/a/default-user=s64",
      "userId": "00192456819128711881"
     },
     "user_tz": -120
    },
    "id": "549AJUC_qdaJ",
    "outputId": "fd90e7cd-a77b-46fe-9f6a-1900585680f1"
   },
   "outputs": [
    {
     "name": "stdout",
     "output_type": "stream",
     "text": [
      "Dimensions: 0\n",
      "Type: <dtype: 'int32'>\n",
      "Shape: ()\n",
      "Device /job:localhost/replica:0/task:0/device:CPU:0\n",
      "tf.Tensor(42, shape=(), dtype=int32) \n",
      "\n"
     ]
    }
   ],
   "source": [
    "# Define a scalar Tensor\n",
    "rank0_tensor = tf.constant(42)\n",
    "print(\"Dimensions:\",rank0_tensor.ndim)\n",
    "print(\"Type:\",rank0_tensor.dtype)\n",
    "print(\"Shape:\",rank0_tensor.shape)\n",
    "print(\"Device\",rank0_tensor.device)\n",
    "print(rank0_tensor,\"\\n\")"
   ]
  },
  {
   "cell_type": "code",
   "execution_count": 29,
   "metadata": {
    "executionInfo": {
     "elapsed": 32,
     "status": "ok",
     "timestamp": 1632815485425,
     "user": {
      "displayName": "Eugenio Lomurno",
      "photoUrl": "https://lh3.googleusercontent.com/a/default-user=s64",
      "userId": "00192456819128711881"
     },
     "user_tz": -120
    },
    "id": "xGv3S3TPwRT-"
   },
   "outputs": [],
   "source": [
    "# Define a function to inspect Tensors\n",
    "def describe_tensor(tensor, device=False):\n",
    "    print(\"Dimensions:\",tensor.ndim)\n",
    "    print(\"Type:\",tensor.dtype)\n",
    "    print(\"Shape:\",tensor.shape)\n",
    "    if(device):\n",
    "        print(\"Device\",tensor.device)\n",
    "    print(tensor,\"\\n\")"
   ]
  },
  {
   "cell_type": "code",
   "execution_count": 30,
   "metadata": {
    "colab": {
     "base_uri": "https://localhost:8080/"
    },
    "executionInfo": {
     "elapsed": 9,
     "status": "ok",
     "timestamp": 1632815485723,
     "user": {
      "displayName": "Eugenio Lomurno",
      "photoUrl": "https://lh3.googleusercontent.com/a/default-user=s64",
      "userId": "00192456819128711881"
     },
     "user_tz": -120
    },
    "id": "zGjPcScGsvwY",
    "outputId": "3f6531a3-1cc7-4477-8ce4-889198c616d5"
   },
   "outputs": [
    {
     "name": "stdout",
     "output_type": "stream",
     "text": [
      "Dimensions: 1\n",
      "Type: <dtype: 'float32'>\n",
      "Shape: (3,)\n",
      "Device /job:localhost/replica:0/task:0/device:CPU:0\n",
      "tf.Tensor([-1.  0.  1.], shape=(3,), dtype=float32) \n",
      "\n"
     ]
    }
   ],
   "source": [
    "# Define a vector Tensor\n",
    "rank1_tensor = tf.constant([-1.,0.,1.])\n",
    "describe_tensor(rank1_tensor, True)"
   ]
  },
  {
   "cell_type": "code",
   "execution_count": 31,
   "metadata": {
    "colab": {
     "base_uri": "https://localhost:8080/"
    },
    "executionInfo": {
     "elapsed": 11,
     "status": "ok",
     "timestamp": 1632815485983,
     "user": {
      "displayName": "Eugenio Lomurno",
      "photoUrl": "https://lh3.googleusercontent.com/a/default-user=s64",
      "userId": "00192456819128711881"
     },
     "user_tz": -120
    },
    "id": "QC6BaU4ItMjT",
    "outputId": "b4eb5a62-ad76-4dbe-81b0-fc5a42b72a20"
   },
   "outputs": [
    {
     "name": "stdout",
     "output_type": "stream",
     "text": [
      "Dimensions: 2\n",
      "Type: <dtype: 'int32'>\n",
      "Shape: (3, 2)\n",
      "tf.Tensor(\n",
      "[[-1  1]\n",
      " [-2  2]\n",
      " [-3  3]], shape=(3, 2), dtype=int32) \n",
      "\n"
     ]
    }
   ],
   "source": [
    "# Define a matrix Tensor\n",
    "rank2_tensor = tf.constant([[-1,1],[-2,2],[-3,3]])\n",
    "describe_tensor(rank2_tensor)"
   ]
  },
  {
   "cell_type": "code",
   "execution_count": 32,
   "metadata": {
    "colab": {
     "base_uri": "https://localhost:8080/"
    },
    "executionInfo": {
     "elapsed": 16,
     "status": "ok",
     "timestamp": 1632815486315,
     "user": {
      "displayName": "Eugenio Lomurno",
      "photoUrl": "https://lh3.googleusercontent.com/a/default-user=s64",
      "userId": "00192456819128711881"
     },
     "user_tz": -120
    },
    "id": "gf2x32g5ugpg",
    "outputId": "01aa396a-e995-4d57-d935-d05a87294b25"
   },
   "outputs": [
    {
     "name": "stdout",
     "output_type": "stream",
     "text": [
      "Dimensions: 3\n",
      "Type: <dtype: 'float32'>\n",
      "Shape: (3, 2, 4)\n",
      "tf.Tensor(\n",
      "[[[ 0.   0.1  0.2  0.3]\n",
      "  [ 0.4  0.5  0.6  0.7]]\n",
      "\n",
      " [[ 0.   1.   2.   3. ]\n",
      "  [ 4.   5.   6.   7. ]]\n",
      "\n",
      " [[ 0.  10.  20.  30. ]\n",
      "  [40.  50.  60.  70. ]]], shape=(3, 2, 4), dtype=float32) \n",
      "\n"
     ]
    }
   ],
   "source": [
    "# Tensors can have an arbitrary number of axes\n",
    "rank3_tensor = tf.constant([[[0,0.1,0.2,0.3],[0.4,0.5,0.6,0.7]],[[0,1,2,3],[4,5,6,7]],[[0,10,20,30],[40,50,60,70]]])\n",
    "describe_tensor(rank3_tensor)"
   ]
  },
  {
   "cell_type": "markdown",
   "metadata": {
    "id": "noKbOzJW_EGI"
   },
   "source": [
    "NumPy conversion"
   ]
  },
  {
   "cell_type": "code",
   "execution_count": 33,
   "metadata": {
    "colab": {
     "base_uri": "https://localhost:8080/"
    },
    "executionInfo": {
     "elapsed": 9,
     "status": "ok",
     "timestamp": 1632815487228,
     "user": {
      "displayName": "Eugenio Lomurno",
      "photoUrl": "https://lh3.googleusercontent.com/a/default-user=s64",
      "userId": "00192456819128711881"
     },
     "user_tz": -120
    },
    "id": "EY0Nobfjwdq0",
    "outputId": "c005fac5-c457-4e29-cbc8-0e4e38753034"
   },
   "outputs": [
    {
     "name": "stdout",
     "output_type": "stream",
     "text": [
      "Dimensions: 1\n",
      "Type: <dtype: 'int64'>\n",
      "Shape: (5,)\n",
      "tf.Tensor([0 1 2 3 4], shape=(5,), dtype=int64) \n",
      "\n"
     ]
    }
   ],
   "source": [
    "# Convert NumPy array to Tensor\n",
    "array = np.array([0,1,2,3,4])\n",
    "tensor = tf.convert_to_tensor(array)\n",
    "describe_tensor(tensor)"
   ]
  },
  {
   "cell_type": "code",
   "execution_count": 34,
   "metadata": {
    "colab": {
     "base_uri": "https://localhost:8080/"
    },
    "executionInfo": {
     "elapsed": 10,
     "status": "ok",
     "timestamp": 1632815487485,
     "user": {
      "displayName": "Eugenio Lomurno",
      "photoUrl": "https://lh3.googleusercontent.com/a/default-user=s64",
      "userId": "00192456819128711881"
     },
     "user_tz": -120
    },
    "id": "sp_99nZVzBYk",
    "outputId": "773de7d3-8f3e-4f3f-8e8a-bfcb2d894986"
   },
   "outputs": [
    {
     "name": "stdout",
     "output_type": "stream",
     "text": [
      "Dimensions: 1\n",
      "Type: int32\n",
      "Shape: (5,)\n",
      "[0 1 2 3 4] \n",
      "\n"
     ]
    }
   ],
   "source": [
    "# Convert Tensor to NumPy array\n",
    "tensor = tf.constant([0,1,2,3,4])\n",
    "array = np.array(tensor)\n",
    "describe_array(array)"
   ]
  },
  {
   "cell_type": "markdown",
   "metadata": {
    "id": "2ZiBqaNp_K2E"
   },
   "source": [
    "Structured Tensors"
   ]
  },
  {
   "cell_type": "code",
   "execution_count": 35,
   "metadata": {
    "colab": {
     "base_uri": "https://localhost:8080/"
    },
    "executionInfo": {
     "elapsed": 11,
     "status": "ok",
     "timestamp": 1632815488403,
     "user": {
      "displayName": "Eugenio Lomurno",
      "photoUrl": "https://lh3.googleusercontent.com/a/default-user=s64",
      "userId": "00192456819128711881"
     },
     "user_tz": -120
    },
    "id": "TRb_plHM3jUP",
    "outputId": "e389e82e-ba79-42c9-a057-59b3e13da29e"
   },
   "outputs": [
    {
     "name": "stdout",
     "output_type": "stream",
     "text": [
      "Dimensions: 2\n",
      "Type: <dtype: 'int32'>\n",
      "Shape: (4, 4)\n",
      "tf.Tensor(\n",
      "[[0 0 0 0]\n",
      " [0 0 0 0]\n",
      " [0 0 0 0]\n",
      " [0 0 0 0]], shape=(4, 4), dtype=int32) \n",
      "\n"
     ]
    }
   ],
   "source": [
    "# Create a Tensor of zeros\n",
    "t_zeros = tf.zeros(shape=(4, 4), dtype=tf.int32)\n",
    "describe_tensor(t_zeros)"
   ]
  },
  {
   "cell_type": "code",
   "execution_count": 36,
   "metadata": {
    "colab": {
     "base_uri": "https://localhost:8080/"
    },
    "executionInfo": {
     "elapsed": 9,
     "status": "ok",
     "timestamp": 1632815489154,
     "user": {
      "displayName": "Eugenio Lomurno",
      "photoUrl": "https://lh3.googleusercontent.com/a/default-user=s64",
      "userId": "00192456819128711881"
     },
     "user_tz": -120
    },
    "id": "oO6875yJ4BHu",
    "outputId": "446be2e9-7212-41e1-afa6-4fd63d64d125"
   },
   "outputs": [
    {
     "name": "stdout",
     "output_type": "stream",
     "text": [
      "Dimensions: 2\n",
      "Type: <dtype: 'int32'>\n",
      "Shape: (4, 4)\n",
      "tf.Tensor(\n",
      "[[9 9 9 9]\n",
      " [9 9 9 9]\n",
      " [9 9 9 9]\n",
      " [9 9 9 9]], shape=(4, 4), dtype=int32) \n",
      "\n"
     ]
    }
   ],
   "source": [
    "# Create a Tensor of 9s\n",
    "t_nines = tf.zeros(shape=(4, 4), dtype=tf.int32) + 9\n",
    "describe_tensor(t_nines)"
   ]
  },
  {
   "cell_type": "code",
   "execution_count": 37,
   "metadata": {
    "colab": {
     "base_uri": "https://localhost:8080/"
    },
    "executionInfo": {
     "elapsed": 16,
     "status": "ok",
     "timestamp": 1632815489466,
     "user": {
      "displayName": "Eugenio Lomurno",
      "photoUrl": "https://lh3.googleusercontent.com/a/default-user=s64",
      "userId": "00192456819128711881"
     },
     "user_tz": -120
    },
    "id": "60iow4QW4BKG",
    "outputId": "32749f0a-91f9-4d4d-e66d-18db9d743375"
   },
   "outputs": [
    {
     "name": "stdout",
     "output_type": "stream",
     "text": [
      "Dimensions: 2\n",
      "Type: <dtype: 'int32'>\n",
      "Shape: (4, 4)\n",
      "tf.Tensor(\n",
      "[[9 9 9 9]\n",
      " [9 9 9 9]\n",
      " [9 9 9 9]\n",
      " [9 9 9 9]], shape=(4, 4), dtype=int32) \n",
      "\n"
     ]
    }
   ],
   "source": [
    "# Create a Tensor of 9s\n",
    "t_nines = tf.ones(shape=(4, 4), dtype=tf.int32) * 9\n",
    "describe_tensor(t_nines)"
   ]
  },
  {
   "cell_type": "code",
   "execution_count": 38,
   "metadata": {
    "colab": {
     "base_uri": "https://localhost:8080/"
    },
    "executionInfo": {
     "elapsed": 12,
     "status": "ok",
     "timestamp": 1632815489467,
     "user": {
      "displayName": "Eugenio Lomurno",
      "photoUrl": "https://lh3.googleusercontent.com/a/default-user=s64",
      "userId": "00192456819128711881"
     },
     "user_tz": -120
    },
    "id": "krygdflO4BFO",
    "outputId": "a9a545c6-3951-4e90-defa-d152fc9653e3"
   },
   "outputs": [
    {
     "name": "stdout",
     "output_type": "stream",
     "text": [
      "Dimensions: 3\n",
      "Type: <dtype: 'float32'>\n",
      "Shape: (2, 4, 4)\n",
      "tf.Tensor(\n",
      "[[[ 0.3363383   0.946324    0.8711024  -2.1783552 ]\n",
      "  [-0.09286126 -0.3165462   0.30054268  1.3205205 ]\n",
      "  [ 0.5004309  -0.8503019   0.5932283  -0.6972675 ]\n",
      "  [ 0.5011849   1.1547028  -0.556005   -2.0170937 ]]\n",
      "\n",
      " [[-0.09474586  0.24294566 -1.095406    0.5009032 ]\n",
      "  [-0.27453318 -1.2158232   1.3909583  -1.238941  ]\n",
      "  [-0.36371887 -0.5738393   0.9144029  -0.07038815]\n",
      "  [-0.56239545  0.8883303  -0.6100074  -0.68024755]]], shape=(2, 4, 4), dtype=float32) \n",
      "\n"
     ]
    }
   ],
   "source": [
    "# Create a normal Tensor\n",
    "t_normal = tf.random.normal(shape=(2, 4, 4))\n",
    "describe_tensor(t_normal)"
   ]
  },
  {
   "cell_type": "markdown",
   "metadata": {
    "id": "p-Tx6nGAB_u-"
   },
   "source": [
    "Reshape, Squeeze and Slice"
   ]
  },
  {
   "cell_type": "code",
   "execution_count": 39,
   "metadata": {
    "colab": {
     "base_uri": "https://localhost:8080/"
    },
    "executionInfo": {
     "elapsed": 15,
     "status": "ok",
     "timestamp": 1632815490887,
     "user": {
      "displayName": "Eugenio Lomurno",
      "photoUrl": "https://lh3.googleusercontent.com/a/default-user=s64",
      "userId": "00192456819128711881"
     },
     "user_tz": -120
    },
    "id": "ZlY5k0Ed9xJl",
    "outputId": "d74a6dd1-ed61-41e7-8dbc-753f8e69bc73"
   },
   "outputs": [
    {
     "name": "stdout",
     "output_type": "stream",
     "text": [
      "Dimensions: 2\n",
      "Type: <dtype: 'int32'>\n",
      "Shape: (4, 5)\n",
      "tf.Tensor(\n",
      "[[5 5 5 5 5]\n",
      " [5 5 5 5 5]\n",
      " [5 5 5 5 5]\n",
      " [5 5 5 5 5]], shape=(4, 5), dtype=int32) \n",
      "\n"
     ]
    }
   ],
   "source": [
    "# Expand and reduce dimensionalities of a Tensor\n",
    "tensor2d = tf.constant(5, shape=(4,5))\n",
    "describe_tensor(tensor2d)\n",
    "\n",
    "tensor3d = tf.expand_dims(tensor2d, axis=-1)\n",
    "describe_tensor(tensor3d)\n",
    "\n",
    "tensor2d = tf.squeeze(tensor3d, axis=-1)\n",
    "describe_tensor(tensor2d)"
   ]
  },
  {
   "cell_type": "code",
   "execution_count": 47,
   "metadata": {
    "colab": {
     "base_uri": "https://localhost:8080/"
    },
    "executionInfo": {
     "elapsed": 318,
     "status": "ok",
     "timestamp": 1632815682377,
     "user": {
      "displayName": "Eugenio Lomurno",
      "photoUrl": "https://lh3.googleusercontent.com/a/default-user=s64",
      "userId": "00192456819128711881"
     },
     "user_tz": -120
    },
    "id": "k6P1RmJkDjtP",
    "outputId": "c7ffebe9-4f22-4878-a37c-ba13d698e405"
   },
   "outputs": [
    {
     "name": "stdout",
     "output_type": "stream",
     "text": [
      "Dimensions: 1\n",
      "Type: <dtype: 'int32'>\n",
      "Shape: (9,)\n",
      "tf.Tensor([0 1 2 3 4 5 6 7 8], shape=(9,), dtype=int32) \n",
      "\n",
      "Dimensions: 2\n",
      "Type: <dtype: 'int32'>\n",
      "Shape: (3, 3)\n",
      "tf.Tensor(\n",
      "[[0 1 2]\n",
      " [3 4 5]\n",
      " [6 7 8]], shape=(3, 3), dtype=int32) \n",
      "\n",
      "Dimensions: 1\n",
      "Type: <dtype: 'int32'>\n",
      "Shape: (9,)\n",
      "tf.Tensor([0 1 2 3 4 5 6 7 8], shape=(9,), dtype=int32) \n",
      "\n"
     ]
    }
   ],
   "source": [
    "# Reshape the form of a Tensor\n",
    "tensor1d = tf.range(9)\n",
    "describe_tensor(tensor1d)\n",
    "\n",
    "tensor2d = tf.reshape(tensor1d, shape=(3,3))\n",
    "describe_tensor(tensor2d)\n",
    "\n",
    "flattened = tf.reshape(tensor2d, shape=(-1))\n",
    "describe_tensor(flattened)\n"
   ]
  },
  {
   "cell_type": "code",
   "execution_count": 60,
   "metadata": {
    "colab": {
     "base_uri": "https://localhost:8080/"
    },
    "executionInfo": {
     "elapsed": 322,
     "status": "ok",
     "timestamp": 1632816648318,
     "user": {
      "displayName": "Eugenio Lomurno",
      "photoUrl": "https://lh3.googleusercontent.com/a/default-user=s64",
      "userId": "00192456819128711881"
     },
     "user_tz": -120
    },
    "id": "Cvgr3dbXaOnW",
    "outputId": "7700d45b-89c1-4369-a64a-7eda256f30b7"
   },
   "outputs": [
    {
     "name": "stdout",
     "output_type": "stream",
     "text": [
      "Dimensions: 2\n",
      "Type: <dtype: 'int32'>\n",
      "Shape: (4, 4)\n",
      "tf.Tensor(\n",
      "[[ 0  1  2  3]\n",
      " [ 4  5  6  7]\n",
      " [ 8  9 10 11]\n",
      " [12 13 14 15]], shape=(4, 4), dtype=int32) \n",
      "\n",
      "Single Tensor element, position[1,2]: tf.Tensor(6, shape=(), dtype=int32)\n",
      "\n",
      "Single Tensor element, position[-1,2]: tf.Tensor(14, shape=(), dtype=int32)\n",
      "\n",
      "Tensor slice, portion[1:3:1, 2:4:1]: tf.Tensor(\n",
      "[[ 6  7]\n",
      " [10 11]], shape=(2, 2), dtype=int32)\n",
      "\n",
      "Tensor slice, portion[1:3, 2:4]: tf.Tensor(\n",
      "[[ 6  7]\n",
      " [10 11]], shape=(2, 2), dtype=int32)\n",
      "\n",
      "Tensor slice, portion[1:, 2:]: tf.Tensor(\n",
      "[[ 6  7]\n",
      " [10 11]\n",
      " [14 15]], shape=(3, 2), dtype=int32)\n",
      "\n",
      "Tensor slice, from[1,1] to[3, 2]: tf.Tensor(\n",
      "[[ 5  6]\n",
      " [ 9 10]\n",
      " [13 14]], shape=(3, 2), dtype=int32)\n"
     ]
    }
   ],
   "source": [
    "# Apply slicing operations on Tensors\n",
    "tensor2d = tf.reshape(tf.range(16), shape=(4,4))\n",
    "describe_tensor(tensor2d)\n",
    "print('Single Tensor element, position[1,2]:',tensor2d[1,2])\n",
    "print('\\nSingle Tensor element, position[-1,2]:',tensor2d[-1,2])\n",
    "print('\\nTensor slice, portion[1:3:1, 2:4:1]:',tensor2d[1:3:1, 2:4:1])\n",
    "print('\\nTensor slice, portion[1:3, 2:4]:',tensor2d[1:3, 2:4])\n",
    "print('\\nTensor slice, portion[1:, 2:]:',tensor2d[1:, 2:])\n",
    "print('\\nTensor slice, from[1,1] to[3, 2]:',tf.slice(tensor2d,[1,1],[3,2]))"
   ]
  },
  {
   "cell_type": "code",
   "execution_count": 61,
   "metadata": {
    "colab": {
     "base_uri": "https://localhost:8080/"
    },
    "executionInfo": {
     "elapsed": 372,
     "status": "ok",
     "timestamp": 1632816754603,
     "user": {
      "displayName": "Eugenio Lomurno",
      "photoUrl": "https://lh3.googleusercontent.com/a/default-user=s64",
      "userId": "00192456819128711881"
     },
     "user_tz": -120
    },
    "id": "T7QZhFMUdio_",
    "outputId": "46dcf420-9973-4652-d245-8a5ba348ab34"
   },
   "outputs": [
    {
     "data": {
      "text/plain": [
       "<tf.Tensor: shape=(8,), dtype=int32, numpy=array([ 0,  2,  4,  6,  8, 10, 12, 14], dtype=int32)>"
      ]
     },
     "execution_count": 61,
     "metadata": {},
     "output_type": "execute_result"
    }
   ],
   "source": [
    "# Apply condition to Tensors\n",
    "indices = tf.where(tensor2d % 2 == 0)\n",
    "print(tf.gather_nd(tensor2d, indices))"
   ]
  }
 ],
 "metadata": {
  "colab": {
   "collapsed_sections": [],
   "name": "1) ArraysAndTensors.ipynb",
   "provenance": []
  },
  "kernelspec": {
   "display_name": "Python 3",
   "language": "python",
   "name": "python3"
  },
  "language_info": {
   "codemirror_mode": {
    "name": "ipython",
    "version": 3
   },
   "file_extension": ".py",
   "mimetype": "text/x-python",
   "name": "python",
   "nbconvert_exporter": "python",
   "pygments_lexer": "ipython3",
   "version": "3.8.8"
  }
 },
 "nbformat": 4,
 "nbformat_minor": 1
}
