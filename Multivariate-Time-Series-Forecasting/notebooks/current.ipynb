{
 "cells": [
  {
   "cell_type": "markdown",
   "id": "f85245e8",
   "metadata": {
    "papermill": {
     "duration": 0.040583,
     "end_time": "2022-01-13T13:14:54.481374",
     "exception": false,
     "start_time": "2022-01-13T13:14:54.440791",
     "status": "completed"
    },
    "tags": []
   },
   "source": [
    "# Initialization"
   ]
  },
  {
   "cell_type": "code",
   "execution_count": null,
   "id": "4b29790a",
   "metadata": {
    "_cell_guid": "b1076dfc-b9ad-4769-8c92-a6c4dae69d19",
    "_uuid": "8f2839f25d086af736a60e9eeb907d3b93b6e0e5",
    "execution": {
     "iopub.execute_input": "2022-01-13T13:14:54.574055Z",
     "iopub.status.busy": "2022-01-13T13:14:54.573030Z",
     "iopub.status.idle": "2022-01-13T13:15:01.090616Z",
     "shell.execute_reply": "2022-01-13T13:15:01.089981Z",
     "shell.execute_reply.started": "2021-12-13T22:32:28.224696Z"
    },
    "papermill": {
     "duration": 6.569676,
     "end_time": "2022-01-13T13:15:01.090765",
     "exception": false,
     "start_time": "2022-01-13T13:14:54.521089",
     "status": "completed"
    },
    "tags": []
   },
   "outputs": [],
   "source": [
    "import tensorflow as tf\n",
    "import numpy as np\n",
    "import os\n",
    "import random\n",
    "import pandas as pd\n",
    "import seaborn as sns\n",
    "from datetime import datetime\n",
    "from sklearn.preprocessing import MinMaxScaler\n",
    "\n",
    "import matplotlib.pyplot as plt\n",
    "plt.rc('font', size=16)\n",
    "\n",
    "import warnings\n",
    "warnings.filterwarnings('ignore')\n",
    "tf.get_logger().setLevel('ERROR')\n",
    "\n",
    "tfk = tf.keras\n",
    "tfkl = tf.keras.layers"
   ]
  },
  {
   "cell_type": "code",
   "execution_count": null,
   "id": "33ab81b1",
   "metadata": {
    "execution": {
     "iopub.execute_input": "2022-01-13T13:15:01.142815Z",
     "iopub.status.busy": "2022-01-13T13:15:01.142041Z",
     "iopub.status.idle": "2022-01-13T13:15:01.144349Z",
     "shell.execute_reply": "2022-01-13T13:15:01.143956Z",
     "shell.execute_reply.started": "2021-12-13T22:23:54.631557Z"
    },
    "papermill": {
     "duration": 0.030258,
     "end_time": "2022-01-13T13:15:01.144457",
     "exception": false,
     "start_time": "2022-01-13T13:15:01.114199",
     "status": "completed"
    },
    "tags": []
   },
   "outputs": [],
   "source": [
    "# Random seed for reproducibility\n",
    "seed = 42\n",
    "\n",
    "random.seed(seed)\n",
    "os.environ['PYTHONHASHSEED'] = str(seed)\n",
    "np.random.seed(seed)\n",
    "tf.random.set_seed(seed)\n",
    "tf.compat.v1.set_random_seed(seed)"
   ]
  },
  {
   "cell_type": "code",
   "execution_count": null,
   "id": "b67457db",
   "metadata": {
    "execution": {
     "iopub.execute_input": "2022-01-13T13:15:01.194906Z",
     "iopub.status.busy": "2022-01-13T13:15:01.194108Z",
     "iopub.status.idle": "2022-01-13T13:15:01.196583Z",
     "shell.execute_reply": "2022-01-13T13:15:01.196130Z"
    },
    "papermill": {
     "duration": 0.029309,
     "end_time": "2022-01-13T13:15:01.196700",
     "exception": false,
     "start_time": "2022-01-13T13:15:01.167391",
     "status": "completed"
    },
    "tags": []
   },
   "outputs": [],
   "source": [
    "# Enable/disable test mode\n",
    "test_mode = True"
   ]
  },
  {
   "cell_type": "markdown",
   "id": "41709118",
   "metadata": {
    "papermill": {
     "duration": 0.024398,
     "end_time": "2022-01-13T13:15:01.245255",
     "exception": false,
     "start_time": "2022-01-13T13:15:01.220857",
     "status": "completed"
    },
    "tags": []
   },
   "source": [
    "## Import and visualize the dataset"
   ]
  },
  {
   "cell_type": "code",
   "execution_count": null,
   "id": "4cf58515",
   "metadata": {
    "execution": {
     "iopub.execute_input": "2022-01-13T13:15:01.302321Z",
     "iopub.status.busy": "2022-01-13T13:15:01.301805Z",
     "iopub.status.idle": "2022-01-13T13:15:01.676016Z",
     "shell.execute_reply": "2022-01-13T13:15:01.676607Z",
     "shell.execute_reply.started": "2021-12-13T22:23:54.638599Z"
    },
    "papermill": {
     "duration": 0.406042,
     "end_time": "2022-01-13T13:15:01.676792",
     "exception": false,
     "start_time": "2022-01-13T13:15:01.270750",
     "status": "completed"
    },
    "tags": []
   },
   "outputs": [],
   "source": [
    "# Set the path to the dataset\n",
    "dataset = pd.read_csv('../input/homework2/Training.csv')\n",
    "#dataset = pd.read_csv('../input/Training.csv')\n",
    "print(dataset.shape) \n",
    "dataset.head().transpose()"
   ]
  },
  {
   "cell_type": "code",
   "execution_count": null,
   "id": "e0f0028a",
   "metadata": {
    "execution": {
     "iopub.execute_input": "2022-01-13T13:15:01.738855Z",
     "iopub.status.busy": "2022-01-13T13:15:01.738097Z",
     "iopub.status.idle": "2022-01-13T13:15:01.740923Z",
     "shell.execute_reply": "2022-01-13T13:15:01.741323Z",
     "shell.execute_reply.started": "2021-12-13T22:23:54.871969Z"
    },
    "papermill": {
     "duration": 0.039502,
     "end_time": "2022-01-13T13:15:01.741442",
     "exception": false,
     "start_time": "2022-01-13T13:15:01.701940",
     "status": "completed"
    },
    "tags": []
   },
   "outputs": [],
   "source": [
    "dataset.head()"
   ]
  },
  {
   "cell_type": "code",
   "execution_count": null,
   "id": "04cdac07",
   "metadata": {
    "execution": {
     "iopub.execute_input": "2022-01-13T13:15:01.793918Z",
     "iopub.status.busy": "2022-01-13T13:15:01.793147Z",
     "iopub.status.idle": "2022-01-13T13:15:01.815286Z",
     "shell.execute_reply": "2022-01-13T13:15:01.815871Z",
     "shell.execute_reply.started": "2021-12-13T22:23:54.889884Z"
    },
    "papermill": {
     "duration": 0.04973,
     "end_time": "2022-01-13T13:15:01.816031",
     "exception": false,
     "start_time": "2022-01-13T13:15:01.766301",
     "status": "completed"
    },
    "tags": []
   },
   "outputs": [],
   "source": [
    "dataset.info()"
   ]
  },
  {
   "cell_type": "code",
   "execution_count": null,
   "id": "7c2bde42",
   "metadata": {
    "execution": {
     "iopub.execute_input": "2022-01-13T13:15:01.874507Z",
     "iopub.status.busy": "2022-01-13T13:15:01.873795Z",
     "iopub.status.idle": "2022-01-13T13:15:02.802602Z",
     "shell.execute_reply": "2022-01-13T13:15:02.803031Z",
     "shell.execute_reply.started": "2021-12-13T22:23:54.912539Z"
    },
    "papermill": {
     "duration": 0.961191,
     "end_time": "2022-01-13T13:15:02.803188",
     "exception": false,
     "start_time": "2022-01-13T13:15:01.841997",
     "status": "completed"
    },
    "tags": []
   },
   "outputs": [],
   "source": [
    "def inspect_dataframe(df, columns):\n",
    "    figs, axs = plt.subplots(len(columns), 1, sharex=True, figsize=(17,17))\n",
    "    for i, col in enumerate(columns):\n",
    "        axs[i].plot(df[col])\n",
    "        axs[i].set_title(col)\n",
    "    plt.show()\n",
    "inspect_dataframe(dataset, dataset.columns)"
   ]
  },
  {
   "cell_type": "markdown",
   "id": "5551623d",
   "metadata": {
    "papermill": {
     "duration": 0.030157,
     "end_time": "2022-01-13T13:15:02.863339",
     "exception": false,
     "start_time": "2022-01-13T13:15:02.833182",
     "status": "completed"
    },
    "tags": []
   },
   "source": [
    "# Data preprocessing"
   ]
  },
  {
   "cell_type": "code",
   "execution_count": null,
   "id": "0bab53de",
   "metadata": {
    "execution": {
     "iopub.execute_input": "2022-01-13T13:15:02.929713Z",
     "iopub.status.busy": "2022-01-13T13:15:02.928891Z",
     "iopub.status.idle": "2022-01-13T13:15:02.939267Z",
     "shell.execute_reply": "2022-01-13T13:15:02.938859Z",
     "shell.execute_reply.started": "2021-12-13T22:23:55.862103Z"
    },
    "papermill": {
     "duration": 0.045678,
     "end_time": "2022-01-13T13:15:02.939374",
     "exception": false,
     "start_time": "2022-01-13T13:15:02.893696",
     "status": "completed"
    },
    "tags": []
   },
   "outputs": [],
   "source": [
    "if(test_mode):\n",
    "    test_size = 10000\n",
    "    X_train_raw = dataset.iloc[:-test_size]\n",
    "    X_test_raw = dataset.iloc[-test_size:]\n",
    "else:\n",
    "    X_train_raw = dataset\n",
    "\n",
    "# y_train_raw = y.iloc[:-test_size]\n",
    "# Normalize both features and labels\n",
    "X_min = X_train_raw.min()\n",
    "X_max = X_train_raw.max()\n",
    "\n",
    "X_train_raw = (X_train_raw-X_min)/(X_max-X_min)\n",
    "\n",
    "if(test_mode):\n",
    "    # y_test_raw = y.iloc[-test_size:]\n",
    "    X_test_raw = (X_test_raw-X_min)/(X_max-X_min)\n",
    "\n"
   ]
  },
  {
   "cell_type": "markdown",
   "id": "65584439",
   "metadata": {
    "papermill": {
     "duration": 0.032638,
     "end_time": "2022-01-13T13:15:03.001249",
     "exception": false,
     "start_time": "2022-01-13T13:15:02.968611",
     "status": "completed"
    },
    "tags": []
   },
   "source": [
    "## Extracting sequences from the dataset"
   ]
  },
  {
   "cell_type": "code",
   "execution_count": null,
   "id": "5f08dc6b",
   "metadata": {
    "execution": {
     "iopub.execute_input": "2022-01-13T13:15:03.070574Z",
     "iopub.status.busy": "2022-01-13T13:15:03.070012Z",
     "iopub.status.idle": "2022-01-13T13:15:03.073482Z",
     "shell.execute_reply": "2022-01-13T13:15:03.073036Z",
     "shell.execute_reply.started": "2021-12-13T22:30:08.410857Z"
    },
    "papermill": {
     "duration": 0.042335,
     "end_time": "2022-01-13T13:15:03.073655",
     "exception": false,
     "start_time": "2022-01-13T13:15:03.031320",
     "status": "completed"
    },
    "tags": []
   },
   "outputs": [],
   "source": [
    "def build_sequences(df, target_labels, window, stride, telescope):\n",
    "    # Sanity check to avoid runtime errors\n",
    "    assert window % stride == 0\n",
    "    dataset = []\n",
    "    labels = []\n",
    "    temp_df = df.copy().values\n",
    "    temp_label = df[target_labels].copy().values\n",
    "    padding_len = len(df)%window\n",
    "\n",
    "    if(padding_len != 0):\n",
    "        # Compute padding length\n",
    "        padding_len = window - len(df)%window\n",
    "        padding = np.zeros((padding_len,temp_df.shape[1]), dtype='float32')#float32\n",
    "        temp_df = np.concatenate((padding,df))\n",
    "        padding = np.zeros((padding_len,temp_label.shape[1]), dtype='float32')\n",
    "        temp_label = np.concatenate((padding,temp_label))\n",
    "        assert len(temp_df) % window == 0\n",
    "\n",
    "    for idx in np.arange(0,len(temp_df)-window-telescope,stride):\n",
    "        dataset.append(temp_df[idx:idx+window])\n",
    "        labels.append(temp_label[idx+window:idx+window+telescope])\n",
    "\n",
    "    dataset = np.array(dataset)\n",
    "    labels = np.array(labels)\n",
    "    return dataset, labels"
   ]
  },
  {
   "cell_type": "code",
   "execution_count": null,
   "id": "ea85b7c0",
   "metadata": {
    "execution": {
     "iopub.execute_input": "2022-01-13T13:15:03.137211Z",
     "iopub.status.busy": "2022-01-13T13:15:03.136484Z",
     "iopub.status.idle": "2022-01-13T13:15:03.138883Z",
     "shell.execute_reply": "2022-01-13T13:15:03.138452Z",
     "shell.execute_reply.started": "2021-12-13T22:23:55.882468Z"
    },
    "papermill": {
     "duration": 0.035887,
     "end_time": "2022-01-13T13:15:03.138987",
     "exception": false,
     "start_time": "2022-01-13T13:15:03.103100",
     "status": "completed"
    },
    "tags": []
   },
   "outputs": [],
   "source": [
    "target_labels = dataset.columns\n",
    "window = 200\n",
    "stride = 5\n",
    "telescope = 1"
   ]
  },
  {
   "cell_type": "code",
   "execution_count": null,
   "id": "c347316b",
   "metadata": {
    "execution": {
     "iopub.execute_input": "2022-01-13T13:15:03.205781Z",
     "iopub.status.busy": "2022-01-13T13:15:03.205066Z",
     "iopub.status.idle": "2022-01-13T13:15:03.207804Z",
     "shell.execute_reply": "2022-01-13T13:15:03.208233Z"
    },
    "papermill": {
     "duration": 0.039434,
     "end_time": "2022-01-13T13:15:03.208353",
     "exception": false,
     "start_time": "2022-01-13T13:15:03.168919",
     "status": "completed"
    },
    "tags": []
   },
   "outputs": [],
   "source": [
    "future = dataset[-window:]\n",
    "future = (future-X_min)/(X_max-X_min)\n",
    "future = np.expand_dims(future, axis=0)\n",
    "future.shape"
   ]
  },
  {
   "cell_type": "code",
   "execution_count": null,
   "id": "2597f0e7",
   "metadata": {
    "execution": {
     "iopub.execute_input": "2022-01-13T13:15:03.274452Z",
     "iopub.status.busy": "2022-01-13T13:15:03.273585Z",
     "iopub.status.idle": "2022-01-13T13:15:03.384200Z",
     "shell.execute_reply": "2022-01-13T13:15:03.384877Z",
     "shell.execute_reply.started": "2021-12-13T22:30:14.235497Z"
    },
    "papermill": {
     "duration": 0.146961,
     "end_time": "2022-01-13T13:15:03.385107",
     "exception": false,
     "start_time": "2022-01-13T13:15:03.238146",
     "status": "completed"
    },
    "tags": []
   },
   "outputs": [],
   "source": [
    "X_train, y_train = build_sequences(X_train_raw, target_labels, window, stride, telescope)\n",
    "print(X_train.shape, y_train.shape)\n",
    "\n",
    "if(test_mode):\n",
    "    X_test, y_test = build_sequences(X_test_raw, target_labels, window, stride, telescope)\n",
    "    print(X_test.shape, y_test.shape)"
   ]
  },
  {
   "cell_type": "code",
   "execution_count": null,
   "id": "9aed5d32",
   "metadata": {
    "execution": {
     "iopub.execute_input": "2022-01-13T13:15:03.456389Z",
     "iopub.status.busy": "2022-01-13T13:15:03.455597Z",
     "iopub.status.idle": "2022-01-13T13:15:03.458084Z",
     "shell.execute_reply": "2022-01-13T13:15:03.457658Z",
     "shell.execute_reply.started": "2021-12-13T22:30:19.452369Z"
    },
    "papermill": {
     "duration": 0.040583,
     "end_time": "2022-01-13T13:15:03.458198",
     "exception": false,
     "start_time": "2022-01-13T13:15:03.417615",
     "status": "completed"
    },
    "tags": []
   },
   "outputs": [],
   "source": [
    "def inspect_multivariate(X, y, columns, telescope, idx=None):\n",
    "    if(idx==None):\n",
    "        idx=np.random.randint(0,len(X))\n",
    "\n",
    "    figs, axs = plt.subplots(len(columns), 1, sharex=True, figsize=(17,17))\n",
    "    for i, col in enumerate(columns):\n",
    "        axs[i].plot(np.arange(len(X[0,:,i])), X[idx,:,i])\n",
    "        axs[i].scatter(np.arange(len(X[0,:,i]), len(X_train[0,:,i])+telescope), y[idx,:,i], color='orange')\n",
    "        axs[i].set_title(col)\n",
    "        axs[i].set_ylim(0,1)\n",
    "    plt.show()"
   ]
  },
  {
   "cell_type": "code",
   "execution_count": null,
   "id": "93ff243c",
   "metadata": {
    "execution": {
     "iopub.execute_input": "2022-01-13T13:15:03.523542Z",
     "iopub.status.busy": "2022-01-13T13:15:03.522797Z",
     "iopub.status.idle": "2022-01-13T13:15:04.346918Z",
     "shell.execute_reply": "2022-01-13T13:15:04.347322Z",
     "shell.execute_reply.started": "2021-12-13T22:30:25.693661Z"
    },
    "papermill": {
     "duration": 0.859021,
     "end_time": "2022-01-13T13:15:04.347466",
     "exception": false,
     "start_time": "2022-01-13T13:15:03.488445",
     "status": "completed"
    },
    "tags": []
   },
   "outputs": [],
   "source": [
    "inspect_multivariate(X_train, y_train, target_labels, telescope)"
   ]
  },
  {
   "cell_type": "markdown",
   "id": "c79c7d36",
   "metadata": {
    "papermill": {
     "duration": 0.034239,
     "end_time": "2022-01-13T13:15:04.415272",
     "exception": false,
     "start_time": "2022-01-13T13:15:04.381033",
     "status": "completed"
    },
    "tags": []
   },
   "source": [
    "# Train the model"
   ]
  },
  {
   "cell_type": "code",
   "execution_count": null,
   "id": "bfc9f7c1",
   "metadata": {
    "execution": {
     "iopub.execute_input": "2022-01-13T13:15:04.488873Z",
     "iopub.status.busy": "2022-01-13T13:15:04.488197Z",
     "iopub.status.idle": "2022-01-13T13:15:04.491549Z",
     "shell.execute_reply": "2022-01-13T13:15:04.492192Z",
     "shell.execute_reply.started": "2021-12-13T22:39:51.376304Z"
    },
    "papermill": {
     "duration": 0.042645,
     "end_time": "2022-01-13T13:15:04.492361",
     "exception": false,
     "start_time": "2022-01-13T13:15:04.449716",
     "status": "completed"
    },
    "tags": []
   },
   "outputs": [],
   "source": [
    "input_shape = X_train.shape[1:]\n",
    "output_shape = y_train.shape[1:]\n",
    "print(y_train.shape)\n",
    "\n",
    "batch_size = 128\n",
    "epochs = 200\n",
    "\n",
    "model_name = 'seq2seq'"
   ]
  },
  {
   "cell_type": "code",
   "execution_count": null,
   "id": "e1e4eeef",
   "metadata": {},
   "outputs": [],
   "source": [
    "def rmse(y_true, y_pred):\n",
    "        return tfk.backend.sqrt(tfk.backend.mean(tfk.backend.square(y_pred - y_true)))"
   ]
  },
  {
   "cell_type": "code",
   "execution_count": null,
   "id": "9ffc49e4",
   "metadata": {
    "execution": {
     "iopub.execute_input": "2022-01-13T13:15:04.569266Z",
     "iopub.status.busy": "2022-01-13T13:15:04.567368Z",
     "iopub.status.idle": "2022-01-13T13:15:04.575071Z",
     "shell.execute_reply": "2022-01-13T13:15:04.574667Z",
     "shell.execute_reply.started": "2021-12-13T22:42:08.668724Z"
    },
    "papermill": {
     "duration": 0.047961,
     "end_time": "2022-01-13T13:15:04.575176",
     "exception": false,
     "start_time": "2022-01-13T13:15:04.527215",
     "status": "completed"
    },
    "tags": []
   },
   "outputs": [],
   "source": [
    "def build_model(input_shape ,output_shape):\n",
    "    #create model\n",
    "    model = tfk.Sequential()\n",
    "\n",
    "    input_train = tfk.Input(shape=input_shape)\n",
    "\n",
    "    # from https://stackoverflow.com/questions/49313650/how-could-i-get-both-the-final-hidden-state-and-sequence-in-a-lstm-layer-when-us\n",
    "    #\n",
    "    # _stack_h: entire seq of hidden states (concatenation of all hidden states from both forward and backward LSTMs)\n",
    "    # _last_h: last hidden state of the LSTM (forward)\n",
    "    # _last_c: last cell state of the LSTM (forward)\n",
    "    # x and y are the same as last_h and last_c but for the backward pass\n",
    "\n",
    "    # encoder, 3 lstm layers\n",
    "    enc_stack_h, enc_last_h, enc_last_c, x, y = tfkl.Bidirectional(tfkl.LSTM(units=256, return_sequences=True, return_state=True))(input_train)\n",
    "    enc_stack_h = tfkl.Dropout(0.2)(enc_stack_h)\n",
    "    enc_last_h = tfkl.Dropout(0.2)(enc_last_h)\n",
    "    enc_last_c = tfkl.Dropout(0.2)(enc_last_c)\n",
    "    x = tfkl.Dropout(0.2)(x)\n",
    "    y = tfkl.Dropout(0.2)(y)\n",
    "    enc_stack_h, enc_last_h, enc_last_c, x, y = tfkl.Bidirectional(tfkl.LSTM(units=256, return_sequences=True, return_state=True))(enc_stack_h, initial_state=[enc_last_h, enc_last_c, x, y])\n",
    "    enc_stack_h = tfkl.Dropout(0.2)(enc_stack_h)\n",
    "    enc_last_h = tfkl.Dropout(0.2)(enc_last_h)\n",
    "    enc_last_c = tfkl.Dropout(0.2)(enc_last_c)\n",
    "    x = tfkl.Dropout(0.2)(x)\n",
    "    y = tfkl.Dropout(0.2)(y)\n",
    "    enc_stack_h, enc_last_h, enc_last_c, x, y = tfkl.Bidirectional(tfkl.LSTM(units=256, return_sequences=True, return_state=True))(enc_stack_h, initial_state=[enc_last_h, enc_last_c, x, y])\n",
    "    enc_stack_h = tfkl.Dropout(0.2)(enc_stack_h)\n",
    "    enc_last_h = tfkl.Dropout(0.2)(enc_last_h)\n",
    "    enc_last_c = tfkl.Dropout(0.2)(enc_last_c)\n",
    "    x = tfkl.Dropout(0.2)(x)\n",
    "    y = tfkl.Dropout(0.2)(y)\n",
    "\n",
    "    # decoder\n",
    "    dec_input = tfkl.RepeatVector(output_shape[0])(enc_last_h)\n",
    "    dec_stack_h, dec_last_h, dec_last_c, x, y = tfkl.Bidirectional(tfkl.LSTM(units=256, return_sequences=True, return_state=True))(dec_input, initial_state=[enc_last_h, enc_last_c, x, y])\n",
    "    dec_stack_h = tfkl.Dropout(0.2)(dec_stack_h)\n",
    "    dec_last_h = tfkl.Dropout(0.2)(dec_last_h)\n",
    "    dec_last_c = tfkl.Dropout(0.2)(dec_last_c)\n",
    "    x = tfkl.Dropout(0.2)(x)\n",
    "    y = tfkl.Dropout(0.2)(y)\n",
    "    dec_stack_h = tfkl.Bidirectional(tfkl.LSTM(units=256, return_sequences=True, return_state=False))(dec_stack_h, initial_state=[dec_last_h, dec_last_c, x, y])\n",
    "    dec_stack_h = tfkl.Dropout(0.2)(dec_stack_h)\n",
    "    dec_last_h = tfkl.Dropout(0.2)(dec_last_h)\n",
    "    dec_last_c = tfkl.Dropout(0.2)(dec_last_c)\n",
    "    x = tfkl.Dropout(0.2)(x)\n",
    "    y = tfkl.Dropout(0.2)(y)\n",
    "    # attention\n",
    "    attention = tfkl.dot([dec_stack_h, enc_stack_h], axes=[2, 2])\n",
    "    attention = tfkl.Activation('softmax')(attention)\n",
    "\n",
    "    ## context\n",
    "    context = tfkl.dot([attention, enc_stack_h], axes=[2, 1])\n",
    "    dec_combined = tfkl.concatenate([context, dec_stack_h])\n",
    "\n",
    "    # output\n",
    "    out = tfkl.TimeDistributed(tfkl.Dense(units=output_shape[1]))(dec_combined)\n",
    "\n",
    "    model = tfk.Model(inputs=input_train, outputs=out)\n",
    "    model.compile(loss=rmse, optimizer=tfk.optimizers.Adam(), metrics=[tfk.metrics.RootMeanSquaredError(), 'mae'])\n",
    "\n",
    "\n",
    "    return model\n"
   ]
  },
  {
   "cell_type": "code",
   "execution_count": null,
   "id": "51ac446f",
   "metadata": {
    "execution": {
     "iopub.execute_input": "2022-01-13T13:15:04.647545Z",
     "iopub.status.busy": "2022-01-13T13:15:04.647016Z",
     "iopub.status.idle": "2022-01-13T13:15:10.882325Z",
     "shell.execute_reply": "2022-01-13T13:15:10.882815Z",
     "shell.execute_reply.started": "2021-12-13T22:42:13.846318Z"
    },
    "papermill": {
     "duration": 6.274049,
     "end_time": "2022-01-13T13:15:10.882969",
     "exception": false,
     "start_time": "2022-01-13T13:15:04.608920",
     "status": "completed"
    },
    "tags": []
   },
   "outputs": [],
   "source": [
    "model = build_model(input_shape, output_shape)\n",
    "model.summary()\n",
    "tfk.utils.plot_model(model, expand_nested=True)\n"
   ]
  },
  {
   "cell_type": "code",
   "execution_count": null,
   "id": "f4c8a253",
   "metadata": {
    "execution": {
     "iopub.execute_input": "2022-01-13T13:15:10.963262Z",
     "iopub.status.busy": "2022-01-13T13:15:10.962753Z",
     "iopub.status.idle": "2022-01-13T13:31:00.076580Z",
     "shell.execute_reply": "2022-01-13T13:31:00.076088Z"
    },
    "papermill": {
     "duration": 949.15703,
     "end_time": "2022-01-13T13:31:00.076724",
     "exception": false,
     "start_time": "2022-01-13T13:15:10.919694",
     "status": "completed"
    },
    "tags": []
   },
   "outputs": [],
   "source": [
    "# Train the model\n",
    "history = model.fit(\n",
    "    x = X_train,\n",
    "    y = y_train,\n",
    "    batch_size = batch_size,\n",
    "    epochs = epochs,\n",
    "    validation_split=.2,\n",
    "    callbacks = [\n",
    "        tfk.callbacks.EarlyStopping(monitor='val_loss', mode='min', patience=10, restore_best_weights=True),\n",
    "        tfk.callbacks.ReduceLROnPlateau(monitor='val_loss', mode='min', patience=5, factor=0.5, min_lr=1e-5)\n",
    "    ]\n",
    ").history"
   ]
  },
  {
   "cell_type": "code",
   "execution_count": null,
   "id": "7f3e0e34",
   "metadata": {
    "execution": {
     "iopub.execute_input": "2022-01-13T13:31:02.585476Z",
     "iopub.status.busy": "2022-01-13T13:31:02.584681Z",
     "iopub.status.idle": "2022-01-13T13:31:51.136062Z",
     "shell.execute_reply": "2022-01-13T13:31:51.135228Z"
    },
    "papermill": {
     "duration": 49.903932,
     "end_time": "2022-01-13T13:31:51.136306",
     "exception": false,
     "start_time": "2022-01-13T13:31:01.232374",
     "status": "completed"
    },
    "tags": []
   },
   "outputs": [],
   "source": [
    "exp_dir = ''\n",
    "model.save(os.path.join(exp_dir, model_name))"
   ]
  },
  {
   "cell_type": "markdown",
   "id": "56c43029",
   "metadata": {
    "papermill": {
     "duration": 1.164752,
     "end_time": "2022-01-13T13:31:53.540826",
     "exception": false,
     "start_time": "2022-01-13T13:31:52.376074",
     "status": "completed"
    },
    "tags": []
   },
   "source": [
    "# Analyze the results"
   ]
  },
  {
   "cell_type": "code",
   "execution_count": null,
   "id": "a55f0a7f",
   "metadata": {
    "execution": {
     "iopub.execute_input": "2022-01-13T13:31:55.886147Z",
     "iopub.status.busy": "2022-01-13T13:31:55.885055Z",
     "iopub.status.idle": "2022-01-13T13:31:56.487843Z",
     "shell.execute_reply": "2022-01-13T13:31:56.487169Z",
     "shell.execute_reply.started": "2021-12-13T22:23:56.138566Z"
    },
    "papermill": {
     "duration": 1.792947,
     "end_time": "2022-01-13T13:31:56.487974",
     "exception": false,
     "start_time": "2022-01-13T13:31:54.695027",
     "status": "completed"
    },
    "tags": []
   },
   "outputs": [],
   "source": [
    "# Plot loss, accuracy and learning rate\n",
    "best_epoch = np.argmin(history['val_loss'])\n",
    "\n",
    "plt.figure(figsize=(17,4))\n",
    "plt.plot(history['loss'], label='Training loss', alpha=.8, color='#ff7f0e')\n",
    "plt.plot(history['val_loss'], label='Validation loss', alpha=.9, color='#5a9aa5')\n",
    "plt.axvline(x=best_epoch, label='Best epoch', alpha=.3, ls='--', color='#5a9aa5')\n",
    "plt.title('Mean Squared Error (Loss)')\n",
    "plt.legend()\n",
    "plt.grid(alpha=.3)\n",
    "plt.show()\n",
    "\n",
    "plt.figure(figsize=(17,4))\n",
    "plt.plot(history['mae'], label='Training accuracy', alpha=.8, color='#ff7f0e')\n",
    "plt.plot(history['val_mae'], label='Validation accuracy', alpha=.9, color='#5a9aa5')\n",
    "plt.axvline(x=best_epoch, label='Best epoch', alpha=.3, ls='--', color='#5a9aa5')\n",
    "plt.title('Mean Absolute Error')\n",
    "plt.legend()\n",
    "plt.grid(alpha=.3)\n",
    "plt.show()\n",
    "\n",
    "plt.figure(figsize=(18,3))\n",
    "plt.plot(history['lr'], label='Learning Rate', alpha=.8, color='#ff7f0e')\n",
    "plt.axvline(x=best_epoch, label='Best epoch', alpha=.3, ls='--', color='#5a9aa5')\n",
    "plt.legend()\n",
    "plt.grid(alpha=.3)\n",
    "plt.show()"
   ]
  },
  {
   "cell_type": "code",
   "execution_count": null,
   "id": "a61b7401",
   "metadata": {
    "execution": {
     "iopub.execute_input": "2022-01-13T13:31:59.447509Z",
     "iopub.status.busy": "2022-01-13T13:31:59.446722Z",
     "iopub.status.idle": "2022-01-13T13:32:07.164852Z",
     "shell.execute_reply": "2022-01-13T13:32:07.164326Z",
     "shell.execute_reply.started": "2021-12-13T22:23:56.140552Z"
    },
    "papermill": {
     "duration": 9.233831,
     "end_time": "2022-01-13T13:32:07.164999",
     "exception": false,
     "start_time": "2022-01-13T13:31:57.931168",
     "status": "completed"
    },
    "tags": []
   },
   "outputs": [],
   "source": [
    "# Predict the test set \n",
    "if(test_mode):\n",
    "    predictions = model.predict(X_test)\n",
    "    print(predictions.shape)\n",
    "\n",
    "    mean_squared_error = tfk.metrics.mse(y_test.flatten(),predictions.flatten())\n",
    "    mean_absolute_error = tfk.metrics.mae(y_test.flatten(),predictions.flatten())\n",
    "    print(mean_squared_error, mean_absolute_error)"
   ]
  },
  {
   "cell_type": "code",
   "execution_count": null,
   "id": "14828609",
   "metadata": {
    "execution": {
     "iopub.execute_input": "2022-01-13T13:32:09.724649Z",
     "iopub.status.busy": "2022-01-13T13:32:09.723774Z",
     "iopub.status.idle": "2022-01-13T13:32:09.726097Z",
     "shell.execute_reply": "2022-01-13T13:32:09.725686Z",
     "shell.execute_reply.started": "2021-12-13T22:23:56.142118Z"
    },
    "papermill": {
     "duration": 1.251263,
     "end_time": "2022-01-13T13:32:09.726210",
     "exception": false,
     "start_time": "2022-01-13T13:32:08.474947",
     "status": "completed"
    },
    "tags": []
   },
   "outputs": [],
   "source": [
    "def inspect_multivariate_prediction(X, y, pred, columns, telescope, idx=None):\n",
    "    if(idx==None):\n",
    "        idx=np.random.randint(0,len(X))\n",
    "\n",
    "    figs, axs = plt.subplots(len(columns), 1, sharex=True, figsize=(17,17))\n",
    "    for i, col in enumerate(columns):\n",
    "        axs[i].plot(np.arange(len(X[0,:,i])), X[idx,:,i])\n",
    "        axs[i].plot(np.arange(len(X[0,:,i]), len(X_train[0,:,i])+telescope), y[idx,:,i], color='orange')\n",
    "        axs[i].plot(np.arange(len(X[0,:,i]), len(X_train[0,:,i])+telescope), pred[idx,:,i], color='green')\n",
    "        axs[i].set_title(col)\n",
    "        axs[i].set_ylim(0,1)\n",
    "    plt.show()"
   ]
  },
  {
   "cell_type": "code",
   "execution_count": null,
   "id": "551d17db",
   "metadata": {
    "execution": {
     "iopub.execute_input": "2022-01-13T13:32:12.121190Z",
     "iopub.status.busy": "2022-01-13T13:32:12.120241Z",
     "iopub.status.idle": "2022-01-13T13:32:12.809105Z",
     "shell.execute_reply": "2022-01-13T13:32:12.809609Z",
     "shell.execute_reply.started": "2021-12-13T22:23:56.143775Z"
    },
    "papermill": {
     "duration": 1.884403,
     "end_time": "2022-01-13T13:32:12.809801",
     "exception": false,
     "start_time": "2022-01-13T13:32:10.925398",
     "status": "completed"
    },
    "tags": []
   },
   "outputs": [],
   "source": [
    "if(test_mode):\n",
    "    inspect_multivariate_prediction(X_test, y_test, predictions, target_labels, telescope)"
   ]
  },
  {
   "cell_type": "code",
   "execution_count": null,
   "id": "6e11f2eb",
   "metadata": {
    "execution": {
     "iopub.execute_input": "2022-01-13T13:32:15.148587Z",
     "iopub.status.busy": "2022-01-13T13:32:15.147740Z",
     "iopub.status.idle": "2022-01-13T13:45:32.891049Z",
     "shell.execute_reply": "2022-01-13T13:45:32.890426Z"
    },
    "papermill": {
     "duration": 798.924269,
     "end_time": "2022-01-13T13:45:32.891213",
     "exception": false,
     "start_time": "2022-01-13T13:32:13.966944",
     "status": "completed"
    },
    "tags": []
   },
   "outputs": [],
   "source": [
    "if(test_mode):\n",
    "    reg_telescope = 216 # 864/4, 864 is too high\n",
    "    X_test_reg, y_test_reg = build_sequences(X_test_raw, target_labels, window, stride, reg_telescope)\n",
    "    print(X_test_reg.shape, y_test_reg.shape)\n",
    "\n",
    "    # Autoregressive Forecasting\n",
    "    reg_predictions = np.array([])\n",
    "    X_temp = X_test_reg\n",
    "    for reg in range(0,reg_telescope,telescope):\n",
    "        pred_temp = model.predict(X_temp)\n",
    "        if(len(reg_predictions)==0):\n",
    "            reg_predictions = pred_temp\n",
    "        else:\n",
    "            reg_predictions = np.concatenate((reg_predictions,pred_temp),axis=1)\n",
    "        X_temp = np.concatenate((X_temp[:,telescope:,:],pred_temp), axis=1)"
   ]
  },
  {
   "cell_type": "code",
   "execution_count": null,
   "id": "77cb535a",
   "metadata": {
    "execution": {
     "iopub.execute_input": "2022-01-13T13:45:35.289242Z",
     "iopub.status.busy": "2022-01-13T13:45:35.288640Z",
     "iopub.status.idle": "2022-01-13T13:45:35.291308Z",
     "shell.execute_reply": "2022-01-13T13:45:35.291753Z"
    },
    "papermill": {
     "duration": 1.234194,
     "end_time": "2022-01-13T13:45:35.291892",
     "exception": false,
     "start_time": "2022-01-13T13:45:34.057698",
     "status": "completed"
    },
    "tags": []
   },
   "outputs": [],
   "source": [
    "if(test_mode):\n",
    "    print(reg_predictions.shape)"
   ]
  },
  {
   "cell_type": "code",
   "execution_count": null,
   "id": "cc75ca3c",
   "metadata": {
    "execution": {
     "iopub.execute_input": "2022-01-13T13:45:37.618946Z",
     "iopub.status.busy": "2022-01-13T13:45:37.617256Z",
     "iopub.status.idle": "2022-01-13T13:45:37.660345Z",
     "shell.execute_reply": "2022-01-13T13:45:37.661084Z"
    },
    "papermill": {
     "duration": 1.210439,
     "end_time": "2022-01-13T13:45:37.661248",
     "exception": false,
     "start_time": "2022-01-13T13:45:36.450809",
     "status": "completed"
    },
    "tags": []
   },
   "outputs": [],
   "source": [
    "if(test_mode):\n",
    "    mean_squared_error = tfk.metrics.mse(y_test_reg.flatten(),reg_predictions.flatten())\n",
    "    mean_absolute_error = tfk.metrics.mae(y_test_reg.flatten(),reg_predictions.flatten())\n",
    "    print(mean_squared_error, mean_absolute_error)"
   ]
  },
  {
   "cell_type": "code",
   "execution_count": null,
   "id": "71b08012",
   "metadata": {
    "execution": {
     "iopub.execute_input": "2022-01-13T13:45:40.015462Z",
     "iopub.status.busy": "2022-01-13T13:45:40.008385Z",
     "iopub.status.idle": "2022-01-13T13:45:40.653179Z",
     "shell.execute_reply": "2022-01-13T13:45:40.653601Z"
    },
    "papermill": {
     "duration": 1.819019,
     "end_time": "2022-01-13T13:45:40.653748",
     "exception": false,
     "start_time": "2022-01-13T13:45:38.834729",
     "status": "completed"
    },
    "tags": []
   },
   "outputs": [],
   "source": [
    "if(test_mode):\n",
    "    inspect_multivariate_prediction(X_test_reg, y_test_reg, reg_predictions, target_labels, reg_telescope)"
   ]
  },
  {
   "cell_type": "code",
   "execution_count": null,
   "id": "3b7ca117",
   "metadata": {
    "execution": {
     "iopub.execute_input": "2022-01-13T13:45:43.270183Z",
     "iopub.status.busy": "2022-01-13T13:45:43.269207Z",
     "iopub.status.idle": "2022-01-13T13:45:43.273528Z",
     "shell.execute_reply": "2022-01-13T13:45:43.273077Z",
     "shell.execute_reply.started": "2021-12-13T22:23:56.14515Z"
    },
    "papermill": {
     "duration": 1.452762,
     "end_time": "2022-01-13T13:45:43.273643",
     "exception": false,
     "start_time": "2022-01-13T13:45:41.820881",
     "status": "completed"
    },
    "tags": []
   },
   "outputs": [],
   "source": [
    "if(test_mode):\n",
    "    maes = []\n",
    "    for i in range(predictions.shape[1]):\n",
    "        ft_maes = []\n",
    "        for j in range(predictions.shape[2]):\n",
    "            ft_maes.append(np.mean(np.abs(y_test[:,i,j]-predictions[:,i,j]), axis=0))\n",
    "        ft_maes = np.array(ft_maes)\n",
    "        maes.append(ft_maes)\n",
    "    maes = np.array(maes)\n",
    "    print(maes)"
   ]
  },
  {
   "cell_type": "code",
   "execution_count": null,
   "id": "113c8bf4",
   "metadata": {
    "execution": {
     "iopub.execute_input": "2022-01-13T13:45:45.658299Z",
     "iopub.status.busy": "2022-01-13T13:45:45.657526Z",
     "iopub.status.idle": "2022-01-13T13:45:45.723413Z",
     "shell.execute_reply": "2022-01-13T13:45:45.722986Z",
     "shell.execute_reply.started": "2021-12-13T22:23:56.146524Z"
    },
    "papermill": {
     "duration": 1.283614,
     "end_time": "2022-01-13T13:45:45.723569",
     "exception": false,
     "start_time": "2022-01-13T13:45:44.439955",
     "status": "completed"
    },
    "tags": []
   },
   "outputs": [],
   "source": [
    "if(test_mode):\n",
    "    future_predictions = model.predict(future)\n",
    "    print(future_predictions.shape)"
   ]
  },
  {
   "cell_type": "code",
   "execution_count": null,
   "id": "535a591e",
   "metadata": {
    "execution": {
     "iopub.execute_input": "2022-01-13T13:45:48.130633Z",
     "iopub.status.busy": "2022-01-13T13:45:48.100172Z",
     "iopub.status.idle": "2022-01-13T13:45:51.488439Z",
     "shell.execute_reply": "2022-01-13T13:45:51.488876Z",
     "shell.execute_reply.started": "2021-12-13T22:23:56.1479Z"
    },
    "papermill": {
     "duration": 4.587284,
     "end_time": "2022-01-13T13:45:51.489019",
     "exception": false,
     "start_time": "2022-01-13T13:45:46.901735",
     "status": "completed"
    },
    "tags": []
   },
   "outputs": [],
   "source": [
    "if(test_mode):\n",
    "    figs, axs = plt.subplots(len(target_labels), 1, sharex=True, figsize=(17,17))\n",
    "    for i, col in enumerate(target_labels):\n",
    "        axs[i].plot(np.arange(len(future[0,:,i])), future[0,:,i])\n",
    "        axs[i].plot(np.arange(len(future[0,:,i]), len(future[0,:,i])+telescope), future_predictions[0,:,i], color='orange')\n",
    "        axs[i].fill_between(\n",
    "            np.arange(len(future[0,:,i]), len(future[0,:,i])+telescope), \n",
    "            future_predictions[0,:,i]+maes[:,i], \n",
    "            future_predictions[0,:,i]-maes[:,i], \n",
    "            color='orange', alpha=.3)\n",
    "        axs[i].set_title(col)\n",
    "        # axs[i].set_ylim(0,1)\n",
    "    plt.show()"
   ]
  }
 ],
 "metadata": {
  "kernelspec": {
   "display_name": "Python 3",
   "language": "python",
   "name": "python3"
  },
  "language_info": {
   "codemirror_mode": {
    "name": "ipython",
    "version": 3
   },
   "file_extension": ".py",
   "mimetype": "text/x-python",
   "name": "python",
   "nbconvert_exporter": "python",
   "pygments_lexer": "ipython3",
   "version": "3.10.1"
  },
  "papermill": {
   "default_parameters": {},
   "duration": 1870.79557,
   "end_time": "2022-01-13T13:45:56.383242",
   "environment_variables": {},
   "exception": null,
   "input_path": "__notebook__.ipynb",
   "output_path": "__notebook__.ipynb",
   "parameters": {},
   "start_time": "2022-01-13T13:14:45.587672",
   "version": "2.3.3"
  }
 },
 "nbformat": 4,
 "nbformat_minor": 5
}
